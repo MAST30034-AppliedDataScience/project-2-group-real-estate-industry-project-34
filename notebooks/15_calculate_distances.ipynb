{
 "cells": [
  {
   "cell_type": "markdown",
   "metadata": {},
   "source": [
    "Calculating proximity to key entertainment areas and transport routes from addresses. Some distances of interest would be distances to:\n",
    "- tram stops\n",
    "- bus stops \n",
    "- train stops \n",
    "- the CBD \n",
    "- Shopping Centres\n",
    "\n",
    "These distances will be calculated using geopy euclidean distances."
   ]
  },
  {
   "cell_type": "code",
   "execution_count": 20,
   "metadata": {},
   "outputs": [],
   "source": [
    "import pandas as pd\n",
    "import geopandas as gpd \n",
    "import shapely"
   ]
  },
  {
   "cell_type": "code",
   "execution_count": 21,
   "metadata": {},
   "outputs": [],
   "source": [
    "addresses = pd.read_parquet('data/landing/preprocessed_rent_data.parquet')\n",
    "bus_stops = gpd.read_file('data/raw/PTV_METRO_BUS_STOP.shp', crs = \"EPSG:4326\")\n",
    "tram_stops = gpd.read_file('data/raw/PTV_METRO_TRAM_STOP.shp',  crs = \"EPSG:4326\")\n",
    "train_stops = gpd.read_file('data/raw/PTV_METRO_TRAIN_STATION.shp',  crs = \"EPSG:4326\")\n",
    "\n",
    "coords = addresses[['latitude', 'longitude']]\n",
    "gdf_coords = gpd.GeoDataFrame(coords, geometry=gpd.points_from_xy(coords['longitude'], coords['latitude']))"
   ]
  },
  {
   "cell_type": "code",
   "execution_count": 22,
   "metadata": {},
   "outputs": [
    {
     "name": "stdout",
     "output_type": "stream",
     "text": [
      "                          geometry\n",
      "0      POINT (145.28815 -37.78092)\n",
      "1      POINT (145.29284 -37.77463)\n",
      "2      POINT (145.29546 -37.77045)\n",
      "3      POINT (145.30178 -37.76635)\n",
      "4      POINT (145.30441 -37.76528)\n",
      "...                            ...\n",
      "18554  POINT (144.82012 -37.79465)\n",
      "18555  POINT (144.81745 -37.79491)\n",
      "18556  POINT (144.81713 -37.79471)\n",
      "18557  POINT (144.81189 -37.79470)\n",
      "18558  POINT (144.93327 -37.76341)\n",
      "\n",
      "[18559 rows x 1 columns]\n"
     ]
    }
   ],
   "source": [
    "print(bus_stops)"
   ]
  },
  {
   "cell_type": "code",
   "execution_count": 23,
   "metadata": {},
   "outputs": [
    {
     "data": {
      "text/html": [
       "<div>\n",
       "<style scoped>\n",
       "    .dataframe tbody tr th:only-of-type {\n",
       "        vertical-align: middle;\n",
       "    }\n",
       "\n",
       "    .dataframe tbody tr th {\n",
       "        vertical-align: top;\n",
       "    }\n",
       "\n",
       "    .dataframe thead th {\n",
       "        text-align: right;\n",
       "    }\n",
       "</style>\n",
       "<table border=\"1\" class=\"dataframe\">\n",
       "  <thead>\n",
       "    <tr style=\"text-align: right;\">\n",
       "      <th></th>\n",
       "      <th>latitude</th>\n",
       "      <th>longitude</th>\n",
       "      <th>geometry</th>\n",
       "    </tr>\n",
       "  </thead>\n",
       "  <tbody>\n",
       "    <tr>\n",
       "      <th>0</th>\n",
       "      <td>-37.847967</td>\n",
       "      <td>144.977640</td>\n",
       "      <td>POINT (144.97764 -37.84797)</td>\n",
       "    </tr>\n",
       "    <tr>\n",
       "      <th>1</th>\n",
       "      <td>-37.812575</td>\n",
       "      <td>144.985854</td>\n",
       "      <td>POINT (144.98585 -37.81258)</td>\n",
       "    </tr>\n",
       "    <tr>\n",
       "      <th>2</th>\n",
       "      <td>-38.373284</td>\n",
       "      <td>144.817655</td>\n",
       "      <td>POINT (144.81766 -38.37328)</td>\n",
       "    </tr>\n",
       "    <tr>\n",
       "      <th>3</th>\n",
       "      <td>-37.839405</td>\n",
       "      <td>144.976224</td>\n",
       "      <td>POINT (144.97622 -37.83940)</td>\n",
       "    </tr>\n",
       "    <tr>\n",
       "      <th>4</th>\n",
       "      <td>-37.816637</td>\n",
       "      <td>144.977522</td>\n",
       "      <td>POINT (144.97752 -37.81664)</td>\n",
       "    </tr>\n",
       "    <tr>\n",
       "      <th>5</th>\n",
       "      <td>-37.815858</td>\n",
       "      <td>144.972028</td>\n",
       "      <td>POINT (144.97203 -37.81586)</td>\n",
       "    </tr>\n",
       "    <tr>\n",
       "      <th>6</th>\n",
       "      <td>-37.760770</td>\n",
       "      <td>144.961728</td>\n",
       "      <td>POINT (144.96173 -37.76077)</td>\n",
       "    </tr>\n",
       "    <tr>\n",
       "      <th>7</th>\n",
       "      <td>-37.760770</td>\n",
       "      <td>144.961728</td>\n",
       "      <td>POINT (144.96173 -37.76077)</td>\n",
       "    </tr>\n",
       "    <tr>\n",
       "      <th>8</th>\n",
       "      <td>-37.760855</td>\n",
       "      <td>144.961691</td>\n",
       "      <td>POINT (144.96169 -37.76085)</td>\n",
       "    </tr>\n",
       "    <tr>\n",
       "      <th>9</th>\n",
       "      <td>-37.812679</td>\n",
       "      <td>144.962732</td>\n",
       "      <td>POINT (144.96273 -37.81268)</td>\n",
       "    </tr>\n",
       "  </tbody>\n",
       "</table>\n",
       "</div>"
      ],
      "text/plain": [
       "    latitude   longitude                     geometry\n",
       "0 -37.847967  144.977640  POINT (144.97764 -37.84797)\n",
       "1 -37.812575  144.985854  POINT (144.98585 -37.81258)\n",
       "2 -38.373284  144.817655  POINT (144.81766 -38.37328)\n",
       "3 -37.839405  144.976224  POINT (144.97622 -37.83940)\n",
       "4 -37.816637  144.977522  POINT (144.97752 -37.81664)\n",
       "5 -37.815858  144.972028  POINT (144.97203 -37.81586)\n",
       "6 -37.760770  144.961728  POINT (144.96173 -37.76077)\n",
       "7 -37.760770  144.961728  POINT (144.96173 -37.76077)\n",
       "8 -37.760855  144.961691  POINT (144.96169 -37.76085)\n",
       "9 -37.812679  144.962732  POINT (144.96273 -37.81268)"
      ]
     },
     "execution_count": 23,
     "metadata": {},
     "output_type": "execute_result"
    }
   ],
   "source": [
    "gdf_coords.head(10)"
   ]
  },
  {
   "cell_type": "code",
   "execution_count": 24,
   "metadata": {},
   "outputs": [],
   "source": [
    "# Function to calculate distances between each coordinate and the nearest tram stop\n",
    "def calculate_distances(gdf_coords, transport):\n",
    "    distances = []\n",
    "    for coord in gdf_coords['geometry']:\n",
    "        dist_to_stop = transport.geometry.distance(coord)\n",
    "        distances.append(dist_to_stop.min())  # minimum distance to any tram stop\n",
    "    return distances"
   ]
  },
  {
   "cell_type": "code",
   "execution_count": 25,
   "metadata": {},
   "outputs": [
    {
     "name": "stdout",
     "output_type": "stream",
     "text": [
      "doing train stations now\n",
      "doing tram stops now\n",
      "done!\n"
     ]
    }
   ],
   "source": [
    "# Add a new column for distances to the nearest tram stop\n",
    "gdf_coords['distance_to_bus_stop'] = calculate_distances(gdf_coords, bus_stops)\n",
    "print('doing train stations now')\n",
    "gdf_coords['distance_to_train_stop'] = calculate_distances(gdf_coords, train_stops)\n",
    "print('doing tram stops now')\n",
    "gdf_coords['distance_to_tram_stop'] = calculate_distances(gdf_coords,tram_stops)\n",
    "print('done!')\n",
    "\n",
    "\n",
    "# If you want to save it as a pandas DataFrame without geometry\n",
    "df_with_distances = pd.DataFrame(gdf_coords.drop(columns='geometry'))\n",
    "\n",
    "# Save the result to a CSV file if needed\n",
    "df_with_distances.to_parquet('data/landing/preprocessed_rent_distances_data.parquet')"
   ]
  }
 ],
 "metadata": {
  "kernelspec": {
   "display_name": "base",
   "language": "python",
   "name": "python3"
  },
  "language_info": {
   "codemirror_mode": {
    "name": "ipython",
    "version": 3
   },
   "file_extension": ".py",
   "mimetype": "text/x-python",
   "name": "python",
   "nbconvert_exporter": "python",
   "pygments_lexer": "ipython3",
   "version": "3.12.2"
  }
 },
 "nbformat": 4,
 "nbformat_minor": 2
}
