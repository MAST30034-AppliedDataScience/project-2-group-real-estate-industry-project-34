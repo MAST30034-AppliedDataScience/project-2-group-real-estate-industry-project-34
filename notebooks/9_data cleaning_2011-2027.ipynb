{
 "cells": [
  {
   "cell_type": "code",
   "execution_count": 12,
   "metadata": {},
   "outputs": [],
   "source": [
    "import pandas as pd \n",
    "import geopandas as gpd\n",
    "income_data = pd.read_csv(\"/home/ryanwonhail/project-2-group-real-estate-industry-project-34/data/raw/au-govt-abs-abs-data-by-region-income-asgs-sa2-2011-2019-sa2-2016(vic, correct).csv\")\n",
    "sf = gpd.read_file(\"/home/ryanwonhail/project-2-group-real-estate-industry-project-34/data/SA2 Zones/SA2_2021_AUST_GDA2020.shp\")\n"
   ]
  },
  {
   "cell_type": "code",
   "execution_count": 13,
   "metadata": {},
   "outputs": [
    {
     "data": {
      "text/plain": [
       "(1771, 71)"
      ]
     },
     "execution_count": 13,
     "metadata": {},
     "output_type": "execute_result"
    }
   ],
   "source": [
    "income_data.count()\n",
    "income_data.shape"
   ]
  },
  {
   "cell_type": "code",
   "execution_count": 14,
   "metadata": {},
   "outputs": [
    {
     "name": "stdout",
     "output_type": "stream",
     "text": [
      "exprmntl_hshld_wlth_estmts_mdlld_prvte_dwllngs_mn_nt_wrth          1479\n",
      "ttl_prsnl_incme_wkly_prsns_agd_15_yrs_cnss_ngtve_pc                1479\n",
      "ttl_prsnl_incme_wkly_prsns_agd_15_yrs_cnss_ernng_3000_pr_wk_pc     1478\n",
      "ttl_prsnl_incme_wkly_prsns_agd_15_yrs_cnss_ernng_1_499_pr_wk_pc    1477\n",
      "tl_prsnl_incme_wkly_prsn_agd_15_yrs_cns_erng_500_999_pr_wk_pc      1477\n",
      "tl_prsnl_incme_wkly_prsn_agd_15_yrs_cns_erng_1000_1999_pr_wk_pc    1477\n",
      "tl_prsnl_incme_wkly_prsn_agd_15_yrs_cns_erng_2000_2999_pr_wk_pc    1477\n",
      "ttl_prsnl_incme_wkly_prsns_agd_15_yrs_cnss_ernng_nl_pc             1477\n",
      "tl_prsnl_incme_wkly_prsn_agd_15_yrs_cns_indqtly_dscrb_std_pc       1477\n",
      "slctd_gvrnmnt_pnsns_allwncs_30_jne_prntng_pymnt_prtnrd_nm          1227\n",
      "dtype: int64\n",
      "1479\n",
      "slctd_gvrnmnt_pnsns_allwncs_30_jne_crr_allwnce_nm                  67.024280\n",
      "slctd_gvrnmnt_pnsns_allwncs_30_jne_prntng_pymnt_prtnrd_nm          69.282891\n",
      "slctd_gvrnmnt_pnsns_allwncs_30_jne_cmmnwlth_rnt_assstnce_nm        66.911350\n",
      "exprmntl_hshld_wlth_estmts_mdlld_prvte_dwllngs_mn_nt_wrth          83.512140\n",
      "ttl_prsnl_incme_wkly_prsns_agd_15_yrs_cnss_ernng_1_499_pr_wk_pc    83.399209\n",
      "tl_prsnl_incme_wkly_prsn_agd_15_yrs_cns_erng_500_999_pr_wk_pc      83.399209\n",
      "tl_prsnl_incme_wkly_prsn_agd_15_yrs_cns_erng_1000_1999_pr_wk_pc    83.399209\n",
      "tl_prsnl_incme_wkly_prsn_agd_15_yrs_cns_erng_2000_2999_pr_wk_pc    83.399209\n",
      "ttl_prsnl_incme_wkly_prsns_agd_15_yrs_cnss_ernng_3000_pr_wk_pc     83.455675\n",
      "ttl_prsnl_incme_wkly_prsns_agd_15_yrs_cnss_ernng_nl_pc             83.399209\n",
      "ttl_prsnl_incme_wkly_prsns_agd_15_yrs_cnss_ngtve_pc                83.512140\n",
      "tl_prsnl_incme_wkly_prsn_agd_15_yrs_cns_indqtly_dscrb_std_pc       83.399209\n",
      "equivalised_total_household_income_census_median_weekly            66.854884\n",
      "dtype: float64\n"
     ]
    }
   ],
   "source": [
    "\n",
    "null_values = income_data.isnull().sum().nlargest(10)\n",
    "print(null_values)\n",
    "max_null_values = income_data.isnull().sum().max()\n",
    "print(max_null_values)\n",
    "missing_percentage = income_data.isnull().mean() * 100\n",
    "\n",
    "\n",
    "high_missing_cols = missing_percentage[missing_percentage > 50]  \n",
    "print(high_missing_cols)\n"
   ]
  },
  {
   "cell_type": "code",
   "execution_count": 15,
   "metadata": {},
   "outputs": [
    {
     "data": {
      "text/plain": [
       "Index([], dtype='object')"
      ]
     },
     "execution_count": 15,
     "metadata": {},
     "output_type": "execute_result"
    }
   ],
   "source": [
    "# Check for columns that have no values at all (i.e., 100% missing values)\n",
    "empty_columns = income_data.columns[income_data.isnull().all()]\n",
    "empty_columns\n"
   ]
  },
  {
   "cell_type": "code",
   "execution_count": 16,
   "metadata": {},
   "outputs": [
    {
     "data": {
      "text/plain": [
       "Series([], dtype: int64)"
      ]
     },
     "execution_count": 16,
     "metadata": {},
     "output_type": "execute_result"
    }
   ],
   "source": [
    "# Select only numeric columns from income_data\n",
    "numeric_columns = income_data.select_dtypes(include=['float64', 'int64']).columns\n",
    "\n",
    "# checks through columns with missing values and impute them using Random Forest on numeric columns only.\n",
    "from sklearn.ensemble import RandomForestRegressor\n",
    "\n",
    "# Function to impute missing values using Random Forest\n",
    "def random_forest_impute(data, target_column, feature_columns):\n",
    "    # Separate the rows with missing values in the target column\n",
    "    not_null_data = data[data[target_column].notnull()]\n",
    "    null_data = data[data[target_column].isnull()]\n",
    "    \n",
    "    # If there are no missing values, return the data as is\n",
    "    if null_data.empty:\n",
    "        return data\n",
    "    \n",
    "   \n",
    "    rf = RandomForestRegressor(n_estimators=100, random_state=42)\n",
    "    \n",
    "    #this is for training with no missing values \n",
    "    X_train = not_null_data[feature_columns]\n",
    "    y_train = not_null_data[target_column]\n",
    "    rf.fit(X_train, y_train)\n",
    "    \n",
    "    # Predict on rows with missing values\n",
    "    X_null = null_data[feature_columns]\n",
    "    predicted_values = rf.predict(X_null)\n",
    "    \n",
    "    # Fill the missing values with the predicted values on those column\n",
    "    data.loc[data[target_column].isnull(), target_column] = predicted_values\n",
    "    \n",
    "    return data\n",
    "\n",
    "# Get columns with missing values\n",
    "columns_with_missing = income_data.columns[income_data.isnull().any()]\n",
    "\n",
    "income_data_imputed = income_data.copy()\n",
    "\n",
    "# Iterate over the columns with missing values and impute them\n",
    "for column in columns_with_missing:\n",
    "    # Use numeric columns only for features, excluding the target column itself\n",
    "    features = numeric_columns.difference([column])\n",
    "    # Impute missing values in income_data_imputed\n",
    "    income_data_imputed = random_forest_impute(income_data_imputed, column, features)\n",
    "\n",
    "#to check our result \n",
    "missing_values_after_imputation = income_data_imputed.isnull().sum()\n",
    "\n",
    "# to double check \n",
    "missing_values_after_imputation[missing_values_after_imputation > 0]\n"
   ]
  },
  {
   "cell_type": "code",
   "execution_count": 17,
   "metadata": {},
   "outputs": [
    {
     "data": {
      "text/plain": [
       "(1771, 71)"
      ]
     },
     "execution_count": 17,
     "metadata": {},
     "output_type": "execute_result"
    }
   ],
   "source": [
    "income_data_imputed.shape\n"
   ]
  },
  {
   "cell_type": "code",
   "execution_count": 18,
   "metadata": {},
   "outputs": [],
   "source": [
    "sf = sf.drop(index=2472)"
   ]
  },
  {
   "cell_type": "code",
   "execution_count": 21,
   "metadata": {},
   "outputs": [
    {
     "name": "stdout",
     "output_type": "stream",
     "text": [
      "  Statistical Areas Level 2 2021 code      SA2_NAME21 CHG_FLAG21  CHG_LBL21  \\\n",
      "0                           109011173  Albury - North          0  No change   \n",
      "1                           109011173  Albury - North          0  No change   \n",
      "2                           109011173  Albury - North          0  No change   \n",
      "3                           109011173  Albury - North          0  No change   \n",
      "4                           109011173  Albury - North          0  No change   \n",
      "\n",
      "  SA3_CODE21 SA3_NAME21 SA4_CODE21 SA4_NAME21 GCC_CODE21   GCC_NAME21  ...  \\\n",
      "0      10901     Albury        109     Murray      1RNSW  Rest of NSW  ...   \n",
      "1      10901     Albury        109     Murray      1RNSW  Rest of NSW  ...   \n",
      "2      10901     Albury        109     Murray      1RNSW  Rest of NSW  ...   \n",
      "3      10901     Albury        109     Murray      1RNSW  Rest of NSW  ...   \n",
      "4      10901     Albury        109     Murray      1RNSW  Rest of NSW  ...   \n",
      "\n",
      "  exprmntl_hshld_wlth_estmts_mdlld_prvte_dwllngs_mn_nt_wrth  \\\n",
      "0                                            804.291          \n",
      "1                                            658.998          \n",
      "2                                            606.958          \n",
      "3                                            638.300          \n",
      "4                                            602.149          \n",
      "\n",
      "  ttl_prsnl_incme_wkly_prsns_agd_15_yrs_cnss_ernng_1_499_pr_wk_pc  \\\n",
      "0                                             33.434                \n",
      "1                                             29.840                \n",
      "2                                             29.874                \n",
      "3                                             32.400                \n",
      "4                                             28.918                \n",
      "\n",
      "  tl_prsnl_incme_wkly_prsn_agd_15_yrs_cns_erng_500_999_pr_wk_pc  \\\n",
      "0                                             22.451              \n",
      "1                                             23.949              \n",
      "2                                             24.069              \n",
      "3                                             27.300              \n",
      "4                                             24.168              \n",
      "\n",
      "  tl_prsnl_incme_wkly_prsn_agd_15_yrs_cns_erng_1000_1999_pr_wk_pc  \\\n",
      "0                                             21.244                \n",
      "1                                             19.094                \n",
      "2                                             19.228                \n",
      "3                                             19.600                \n",
      "4                                             20.251                \n",
      "\n",
      "   tl_prsnl_incme_wkly_prsn_agd_15_yrs_cns_erng_2000_2999_pr_wk_pc  \\\n",
      "0                                              6.642                 \n",
      "1                                              2.135                 \n",
      "2                                              2.086                 \n",
      "3                                              2.100                 \n",
      "4                                              2.323                 \n",
      "\n",
      "  ttl_prsnl_incme_wkly_prsns_agd_15_yrs_cnss_ernng_3000_pr_wk_pc  \\\n",
      "0                                              5.543               \n",
      "1                                              0.969               \n",
      "2                                              0.995               \n",
      "3                                              1.200               \n",
      "4                                              0.961               \n",
      "\n",
      "  ttl_prsnl_incme_wkly_prsns_agd_15_yrs_cnss_ernng_nl_pc  \\\n",
      "0                                              7.901       \n",
      "1                                              7.698       \n",
      "2                                              7.413       \n",
      "3                                              5.700       \n",
      "4                                              7.632       \n",
      "\n",
      "  ttl_prsnl_incme_wkly_prsns_agd_15_yrs_cnss_ngtve_pc  \\\n",
      "0                                              0.466    \n",
      "1                                              0.478    \n",
      "2                                              0.483    \n",
      "3                                              0.500    \n",
      "4                                              0.448    \n",
      "\n",
      "  tl_prsnl_incme_wkly_prsn_agd_15_yrs_cns_indqtly_dscrb_std_pc  \\\n",
      "0                                              8.772             \n",
      "1                                              9.509             \n",
      "2                                              9.307             \n",
      "3                                             11.200             \n",
      "4                                              8.503             \n",
      "\n",
      "   equivalised_total_household_income_census_median_weekly  \n",
      "0                                             632.00        \n",
      "1                                             777.38        \n",
      "2                                             733.43        \n",
      "3                                             731.00        \n",
      "4                                             788.80        \n",
      "\n",
      "[5 rows x 87 columns]\n",
      "(1544, 87)\n"
     ]
    }
   ],
   "source": [
    "# Rename the column in 'sf' DataFrame\n",
    "sf.rename(columns={'SA2_CODE21': 'Statistical Areas Level 2 2021 code'}, inplace=True)\n",
    "\n",
    "# Convert 'Statistical Areas Level 2 2021 code' in both DataFrames to strings before merging\n",
    "sf['Statistical Areas Level 2 2021 code'] = sf['Statistical Areas Level 2 2021 code'].astype(str)\n",
    "income_data_imputed['Statistical Areas Level 2 2021 code'] = income_data_imputed['Statistical Areas Level 2 2021 code'].astype(str)\n",
    "\n",
    "# Now perform the merge\n",
    "merged_df = sf.merge(income_data_imputed, how='inner', on='Statistical Areas Level 2 2021 code')\n",
    "\n",
    "# Check the result\n",
    "print(merged_df.head())\n",
    "\n",
    "# Filter for Victoria\n",
    "victoria_income_2011_2019 = merged_df[merged_df['STE_NAME21'] == 'Victoria']\n",
    "print(victoria_income_2011_2019.shape)\n"
   ]
  },
  {
   "cell_type": "code",
   "execution_count": 22,
   "metadata": {},
   "outputs": [
    {
     "data": {
      "text/plain": [
       "Index(['Statistical Areas Level 2 2021 code', 'FID', 'sa2_name_2016', 'yr',\n",
       "       'estmts_prsnl_incme_yr_endd_30_jne_emplye_ernrs_nm',\n",
       "       'estmts_prsnl_incme_yr_endd_30_jne_emplye_ernrs_mdn_age_yrs',\n",
       "       'estimates_personal_income_year_ended_30_june_total_employee_m',\n",
       "       'estimates_personal_income_year_ended_30_june_median_employee',\n",
       "       'estimates_personal_income_year_ended_30_june_mean_employee',\n",
       "       'estmts_prsnl_incme_yr_endd_30_jne_emplye_mn_srce_of_pc',\n",
       "       'estmts_prsnl_incme_yr_endd_30_jne_unncrprtd_bsnss_ernrs_nm',\n",
       "       'estm_prsnl_incme_yr_end_30_jne_uncrptd_bsn_erns_mdn_age_yrs',\n",
       "       'estmts_prsnl_incme_yr_endd_30_jne_ttl_unncrprtd_bsnss_m',\n",
       "       'estmts_prsnl_incme_yr_endd_30_jne_mdn_unncrprtd_bsnss',\n",
       "       'estmts_prsnl_incme_yr_endd_30_jne_mn_unncrprtd_bsnss',\n",
       "       'estmts_prsnl_incme_yr_endd_30_jne_unncrprtd_bsnss_mn_srce_of_pc',\n",
       "       'estmts_prsnl_incme_yr_endd_30_jne_invstmnt_ernrs_nm',\n",
       "       'estmts_prsnl_incme_yr_endd_30_jne_invstmnt_ernrs_mdn_age_yrs',\n",
       "       'estimates_personal_income_year_ended_30_june_total_investment_m',\n",
       "       'estimates_personal_income_year_ended_30_june_median_investment',\n",
       "       'estimates_personal_income_year_ended_30_june_mean_investment',\n",
       "       'estmts_prsnl_incme_yr_endd_30_jne_invstmnt_mn_srce_of_pc',\n",
       "       'estmts_prsnl_incme_yr_endd_30_jne_sprnntn_annty_ernrs_nm',\n",
       "       'estm_prsnl_incme_yr_end_30_jne_sprnt_anty_erns_mdn_age_yrs',\n",
       "       'estmts_prsnl_incme_yr_endd_30_jne_ttl_sprnntn_annty_m',\n",
       "       'estmts_prsnl_incme_yr_endd_30_jne_mdn_sprnntn_annty',\n",
       "       'estmts_prsnl_incme_yr_endd_30_jne_mn_sprnntn_annty',\n",
       "       'estmts_prsnl_incme_yr_endd_30_jne_sprnntn_annty_mn_srce_of_pc',\n",
       "       'estm_prsnl_incme_yr_end_30_jne_tl_erns_excl_gvrnmt_pns_alwncs_n',\n",
       "       'estm_prsnl_incme_yr_end_30_jne_tl_erns_excl_gvrnmt_pns_alwncs_m',\n",
       "       'estm_prsnl_incme_yr_end_30_jne_tl_excl_gvrnmt_pns_alwncs_m',\n",
       "       'estm_prsnl_incme_yr_end_30_jne_mdn_tl_excl_gvrnmt_pns_alwncs',\n",
       "       'estm_prsnl_incme_yr_end_30_jne_mn_tl_excl_gvrnmt_pns_alwncs',\n",
       "       'estm_prsnl_incme_yr_end_30_jne_tl_excl_gvrnmt_pns_alwncs_p802_r',\n",
       "       'estm_prsnl_incme_yr_end_30_jne_tl_excl_gvrnmt_pns_alwncs_p805_r',\n",
       "       'estm_prsnl_incme_yr_end_30_jne_tl_excl_gvrnmt_pns_alwncs_p205_r',\n",
       "       'estm_prsnl_incme_yr_end_30_jne_tl_excl_gvrnmt_pns_alwncs_p105_r',\n",
       "       'estm_prsnl_incme_yr_end_30_jne_tl_excl_gvrnmt_pns_alwncs_gni_cf',\n",
       "       'estm_prsnl_incme_yr_end_30_jne_tl_excl_gvrnmt_pns_alwncs_shre_o',\n",
       "       'estm_prsnl_incme_yr_end_30_jne_tl_excl_gvrnmt_pns_alwncs_shre_0',\n",
       "       'estm_prsnl_incme_yr_end_30_jne_tl_excl_gvrnmt_pns_alwncs_shre_1',\n",
       "       'estm_prsnl_incme_yr_end_30_jne_tl_excl_gvrnmt_pns_alwncs_lwst_q',\n",
       "       'estm_prsnl_incme_yr_end_30_jne_tl_excl_gvrnmt_pns_alwncs_scnd_q',\n",
       "       'estm_prsnl_incme_yr_end_30_jne_tl_excl_gvrnmt_pns_alwncs_thrd_q',\n",
       "       'estm_prsnl_incme_yr_end_30_jne_tl_excl_gvrnmt_pns_alwncs_hgst_q',\n",
       "       'grss_cptl_gns_rprtd_txpyrs_yr_endd_30_jne_by_prsns_nm',\n",
       "       'grss_cptl_gns_rprtd_txpyrs_yr_endd_30_jne_by_amnt_m',\n",
       "       'grss_cptl_gns_rprtd_txpyrs_yr_endd_30_jne_by_mdn',\n",
       "       'grss_cptl_gns_rprtd_txpyrs_yr_endd_30_jne_by_mn',\n",
       "       'slctd_gvrnmnt_pnsns_allwncs_30_jne_age_pnsn_cntrlnk_nm',\n",
       "       'slctd_gvrnmnt_pnsns_allwncs_30_jne_crr_pymnt_nm',\n",
       "       'slctd_gvrnmnt_pnsns_allwncs_30_jne_crr_allwnce_nm',\n",
       "       'slctd_gvrnmnt_pnsns_allwncs_30_jne_dsblty_spprt_pnsn_nm',\n",
       "       'slctd_gvrnmnt_pnsns_allwncs_30_jne_nwstrt_allwnce_nm',\n",
       "       'slctd_gvrnmnt_pnsns_allwncs_30_jne_prntng_pymnt_sngle_nm',\n",
       "       'slctd_gvrnmnt_pnsns_allwncs_30_jne_prntng_pymnt_prtnrd_nm',\n",
       "       'slctd_gvrnmt_pns_alwncs_30_jne_yth_alwnce_fl_tme_stdnprc_nm',\n",
       "       'slctd_gvrnmnt_pnsns_allwncs_30_jne_yth_allwnce_nm',\n",
       "       'slctd_gvrnmnt_pnsns_allwncs_30_jne_fmly_tx_bnft_nm',\n",
       "       'slctd_gvrnmnt_pnsns_allwncs_30_jne_fmly_tx_bnft_b_nm',\n",
       "       'slctd_gvrnmnt_pnsns_allwncs_30_jne_cmmnwlth_rnt_assstnce_nm',\n",
       "       'exprmntl_hshld_wlth_estmts_mdlld_prvte_dwllngs_mn_nt_wrth',\n",
       "       'ttl_prsnl_incme_wkly_prsns_agd_15_yrs_cnss_ernng_1_499_pr_wk_pc',\n",
       "       'tl_prsnl_incme_wkly_prsn_agd_15_yrs_cns_erng_500_999_pr_wk_pc',\n",
       "       'tl_prsnl_incme_wkly_prsn_agd_15_yrs_cns_erng_1000_1999_pr_wk_pc',\n",
       "       'tl_prsnl_incme_wkly_prsn_agd_15_yrs_cns_erng_2000_2999_pr_wk_pc',\n",
       "       'ttl_prsnl_incme_wkly_prsns_agd_15_yrs_cnss_ernng_3000_pr_wk_pc',\n",
       "       'ttl_prsnl_incme_wkly_prsns_agd_15_yrs_cnss_ernng_nl_pc',\n",
       "       'ttl_prsnl_incme_wkly_prsns_agd_15_yrs_cnss_ngtve_pc',\n",
       "       'tl_prsnl_incme_wkly_prsn_agd_15_yrs_cns_indqtly_dscrb_std_pc',\n",
       "       'equivalised_total_household_income_census_median_weekly'],\n",
       "      dtype='object')"
      ]
     },
     "execution_count": 22,
     "metadata": {},
     "output_type": "execute_result"
    }
   ],
   "source": [
    "\n",
    "columns_to_drop = ['SA2_NAME21', 'CHG_FLAG21', 'CHG_LBL21', 'SA3_CODE21', 'SA3_NAME21', \n",
    "                   'SA4_CODE21', 'SA4_NAME21', 'GCC_CODE21', 'GCC_NAME21', 'STE_CODE21', \n",
    "                   'STE_NAME21', 'AUS_CODE21', 'AUS_NAME21', 'AREASQKM21', 'LOCI_URI21', \n",
    "                   'geometry']\n",
    "\n",
    "\n",
    "victoria_income_cleaned = victoria_income_2011_2019.drop(columns=columns_to_drop)\n",
    "\n",
    "victoria_income_cleaned.columns\n"
   ]
  },
  {
   "cell_type": "code",
   "execution_count": 26,
   "metadata": {},
   "outputs": [],
   "source": [
    "victoria_income_cleaned.to_csv('median_income_prediction 2011-2019 before feature selection .csv', index=False)"
   ]
  },
  {
   "cell_type": "code",
   "execution_count": 23,
   "metadata": {},
   "outputs": [
    {
     "data": {
      "text/plain": [
       "estm_prsnl_incme_yr_end_30_jne_mdn_tl_excl_gvrnmt_pns_alwncs       1.000000\n",
       "estimates_personal_income_year_ended_30_june_mean_employee         0.911193\n",
       "estm_prsnl_incme_yr_end_30_jne_tl_excl_gvrnmt_pns_alwncs_hgst_q    0.910730\n",
       "tl_prsnl_incme_wkly_prsn_agd_15_yrs_cns_erng_2000_2999_pr_wk_pc    0.892991\n",
       "estm_prsnl_incme_yr_end_30_jne_mn_tl_excl_gvrnmt_pns_alwncs        0.884822\n",
       "ttl_prsnl_incme_wkly_prsns_agd_15_yrs_cnss_ernng_3000_pr_wk_pc     0.851269\n",
       "estimates_personal_income_year_ended_30_june_median_employee       0.827176\n",
       "tl_prsnl_incme_wkly_prsn_agd_15_yrs_cns_erng_1000_1999_pr_wk_pc    0.766470\n",
       "equivalised_total_household_income_census_median_weekly            0.693357\n",
       "estimates_personal_income_year_ended_30_june_mean_investment       0.625605\n",
       "exprmntl_hshld_wlth_estmts_mdlld_prvte_dwllngs_mn_nt_wrth          0.527417\n",
       "estmts_prsnl_incme_yr_endd_30_jne_mn_unncrprtd_bsnss               0.500245\n",
       "estmts_prsnl_incme_yr_endd_30_jne_mn_sprnntn_annty                 0.499733\n",
       "estm_prsnl_incme_yr_end_30_jne_tl_excl_gvrnmt_pns_alwncs_m         0.482869\n",
       "estm_prsnl_incme_yr_end_30_jne_tl_excl_gvrnmt_pns_alwncs_p805_r    0.465753\n",
       "Name: estm_prsnl_incme_yr_end_30_jne_mdn_tl_excl_gvrnmt_pns_alwncs, dtype: float64"
      ]
     },
     "execution_count": 23,
     "metadata": {},
     "output_type": "execute_result"
    }
   ],
   "source": [
    "import pandas as pd\n",
    "import seaborn as sns\n",
    "import matplotlib.pyplot as plt\n",
    "target_column = 'estm_prsnl_incme_yr_end_30_jne_mdn_tl_excl_gvrnmt_pns_alwncs'\n",
    "numerical_df = victoria_income_cleaned.select_dtypes(include=['float64', 'int64'])\n",
    "\n",
    "# Calculate the correlation matrix for numerical columns\n",
    "correlation_matrix = numerical_df.corr()\n",
    "correlation_matrix\n",
    "correlation_with_target = correlation_matrix[target_column].sort_values(ascending = False)\n",
    "# Display correlations with the target column\n",
    "correlation_with_target.head(15)\n",
    "\n"
   ]
  },
  {
   "cell_type": "code",
   "execution_count": 25,
   "metadata": {},
   "outputs": [],
   "source": [
    "from sklearn.preprocessing import StandardScaler\n",
    "top_features = [\n",
    "    'estimates_personal_income_year_ended_30_june_mean_employee',\n",
    "    'estm_prsnl_incme_yr_end_30_jne_tl_excl_gvrnmt_pns_alwncs_hgst_q',\n",
    "    'tl_prsnl_incme_wkly_prsn_agd_15_yrs_cns_erng_2000_2999_pr_wk_pc',\n",
    "    'estm_prsnl_incme_yr_end_30_jne_mn_tl_excl_gvrnmt_pns_alwncs',\n",
    "    'ttl_prsnl_incme_wkly_prsns_agd_15_yrs_cnss_ernng_3000_pr_wk_pc',\n",
    "    'estimates_personal_income_year_ended_30_june_median_employee',\n",
    "    'tl_prsnl_incme_wkly_prsn_agd_15_yrs_cns_erng_1000_1999_pr_wk_pc',\n",
    "    'equivalised_total_household_income_census_median_weekly',\n",
    "    'estimates_personal_income_year_ended_30_june_mean_investment',\n",
    "    'exprmntl_hshld_wlth_estmts_mdlld_prvte_dwllngs_mn_nt_wrth',\n",
    "    'estmts_prsnl_incme_yr_endd_30_jne_mn_unncrprtd_bsnss',\n",
    "    'estmts_prsnl_incme_yr_endd_30_jne_mn_sprnntn_annty',\n",
    "    'estm_prsnl_incme_yr_end_30_jne_tl_excl_gvrnmt_pns_alwncs_m',\n",
    "    'estm_prsnl_incme_yr_end_30_jne_tl_excl_gvrnmt_pns_alwncs_p805_r',\n",
    "    'yr'\n",
    "]\n",
    "\n",
    "scaler = StandardScaler()\n",
    "y = victoria_income_cleaned['estm_prsnl_incme_yr_end_30_jne_mdn_tl_excl_gvrnmt_pns_alwncs']\n",
    "# top_features is a list of feature names from your correlation analysis\n",
    "X = victoria_income_cleaned[top_features]\n",
    "year_column = victoria_income_cleaned['yr']\n",
    "X_scaled = scaler.fit_transform(X)\n",
    "# Split the data into 2011-2017 for training and 2018 for testing\n",
    "X_train = X[year_column < 2018]\n",
    "y_train = y[year_column < 2018]\n",
    "\n",
    "X_test = X[year_column == 2018]\n",
    "y_test = y[year_column == 2018]\n",
    "\n",
    "scaler = StandardScaler()\n",
    "X_train_scaled = scaler.fit_transform(X_train)\n",
    "X_test_scaled = scaler.transform(X_test)\n"
   ]
  },
  {
   "cell_type": "code",
   "execution_count": 26,
   "metadata": {},
   "outputs": [
    {
     "name": "stdout",
     "output_type": "stream",
     "text": [
      "Feature ranking: [ 3  1  6  1  2  1  9  8  4  5 12 11 10  1  7]\n",
      "Selected Features: ['estm_prsnl_incme_yr_end_30_jne_tl_excl_gvrnmt_pns_alwncs_hgst_q', 'estm_prsnl_incme_yr_end_30_jne_mn_tl_excl_gvrnmt_pns_alwncs', 'estimates_personal_income_year_ended_30_june_median_employee', 'estm_prsnl_incme_yr_end_30_jne_tl_excl_gvrnmt_pns_alwncs_p805_r']\n"
     ]
    }
   ],
   "source": [
    "from sklearn.feature_selection import RFE\n",
    "from sklearn.linear_model import LinearRegression\n",
    "\n",
    "model = LinearRegression()\n",
    "\n",
    "#gets the top 4 features \n",
    "rfe = RFE(model, n_features_to_select=4)\n",
    "rfe = rfe.fit(X_scaled, y)\n",
    "\n",
    "# Get the ranking of the features\n",
    "print(\"Feature ranking:\", rfe.ranking_)\n",
    "\n",
    "selected_features = [feature for feature, rank in zip(top_features, rfe.ranking_) if rank == 1]\n",
    "print(\"Selected Features:\", selected_features)\n",
    "\n",
    "# Get the selected feature indices\n",
    "selected_features_idx = rfe.get_support(indices=True)\n",
    "\n",
    "# Select the columns from X_train and X_test corresponding to the selected features\n",
    "X_train_selected = X_train_scaled[:, selected_features_idx]\n",
    "X_test_selected = X_test_scaled[:, selected_features_idx]\n",
    "\n"
   ]
  },
  {
   "cell_type": "code",
   "execution_count": 27,
   "metadata": {},
   "outputs": [
    {
     "name": "stdout",
     "output_type": "stream",
     "text": [
      "Mean Squared Error on 2018 data: 45769.67683835923\n",
      "Predicted values: [53069.94807578 53100.68041758 53442.46196499 53035.12059024\n",
      " 53360.29309033]\n",
      "Actual values: 23    53008.69\n",
      "29    52792.62\n",
      "35    53648.01\n",
      "41    52986.05\n",
      "47    53458.46\n",
      "Name: estm_prsnl_incme_yr_end_30_jne_mdn_tl_excl_gvrnmt_pns_alwncs, dtype: float64\n",
      "R² Score: 0.6276195121763144\n"
     ]
    }
   ],
   "source": [
    "from sklearn.metrics import mean_squared_error\n",
    "from sklearn.linear_model import HuberRegressor\n",
    "model_final = LinearRegression()\n",
    "\n",
    "# Fit the model on the selected features of the training data\n",
    "model_final.fit(X_train_selected, y_train)\n",
    "\n",
    "# Predict on the selected features of the test data (2018)\n",
    "y_pred = model_final.predict(X_test_selected)\n",
    "\n",
    "# Evaluate the model using Mean Squared Error (MSE)\n",
    "mse = mean_squared_error(y_test, y_pred)\n",
    "print(f'Mean Squared Error on 2018 data: {mse}')\n",
    "\n",
    "# Optional: Print the predicted vs actual values\n",
    "print(\"Predicted values:\", y_pred[:5])\n",
    "print(\"Actual values:\", y_test[:5])\n",
    "\n",
    "from sklearn.metrics import r2_score\n",
    "\n",
    "r2 = r2_score(y_test, y_pred)\n",
    "print(f'R² Score: {r2}')"
   ]
  },
  {
   "cell_type": "code",
   "execution_count": 28,
   "metadata": {},
   "outputs": [
    {
     "name": "stdout",
     "output_type": "stream",
     "text": [
      "Variance of the target variable: 123393.05433450387\n"
     ]
    }
   ],
   "source": [
    "target_variance = y_test.var()\n",
    "print(\"Variance of the target variable:\", target_variance)\n"
   ]
  },
  {
   "cell_type": "code",
   "execution_count": 55,
   "metadata": {},
   "outputs": [
    {
     "data": {
      "image/png": "[encoded data removed]",
      "text/plain": [
       "<Figure size 640x480 with 1 Axes>"
      ]
     },
     "metadata": {},
     "output_type": "display_data"
    }
   ],
   "source": [
    "import matplotlib.pyplot as plt\n",
    "\n",
    "residuals = y_test - y_pred\n",
    "plt.scatter(y_pred, residuals)\n",
    "plt.axhline(0, color='red', linestyle='--')\n",
    "plt.title('Residuals vs Predicted Values')\n",
    "plt.xlabel('Predicted Values')\n",
    "plt.ylabel('Residuals')\n",
    "plt.show()\n"
   ]
  },
  {
   "cell_type": "code",
   "execution_count": 37,
   "metadata": {},
   "outputs": [],
   "source": [
    "# Fit the model on the training data (all available data) before making predictions\n",
    "X_train_selected = X_scaled[:, selected_features_idx]\n",
    "model.fit(X_train_selected, y)\n",
    "\n",
    "# Now proceed with forecasting for 2011, 2014, 2015, 2016, and 2017\n",
    "years_to_predict = [2011, 2014, 2015, 2016, 2017]\n",
    "forecast_results = {}\n",
    "\n",
    "for year in years_to_predict:\n",
    "    # Filter the data for each year\n",
    "    X_year = victoria_income_cleaned[victoria_income_cleaned['yr'] == year][top_features]\n",
    "    \n",
    "    # Scale and select the relevant features\n",
    "    X_year_scaled = scaler.transform(X_year)\n",
    "    X_year_selected = X_year_scaled[:, selected_features_idx]\n",
    "    \n",
    "    # Make predictions for the selected years\n",
    "    y_pred_year = model.predict(X_year_selected)\n",
    "    \n",
    "    # Store the predictions for each year in a new column\n",
    "    victoria_income_cleaned.loc[victoria_income_cleaned['yr'] == year, f'{year}_Forecast'] = y_pred_year\n",
    "\n",
    "# Format the forecast data\n",
    "final_forecast_columns = ['Statistical Areas Level 2 2021 code', 'sa2_name_2016']\n",
    "\n",
    "# Create a DataFrame with the relevant columns (only unique suburbs and their codes)\n",
    "formatted_forecast_df = victoria_income_cleaned[['Statistical Areas Level 2 2021 code', 'sa2_name_2016']].drop_duplicates()\n",
    "\n",
    "# Merge forecasted columns for each year (ensuring each suburb appears only once)\n",
    "for year in [2011, 2014, 2015, 2016, 2017]:\n",
    "    formatted_forecast_df = formatted_forecast_df.merge(\n",
    "        victoria_income_cleaned[['Statistical Areas Level 2 2021 code', f'{year}_Forecast']].drop_duplicates(),\n",
    "        on='Statistical Areas Level 2 2021 code',\n",
    "        how='left'\n",
    "    )\n",
    "\n",
    "# Now apply the unique function using groupby to ensure each suburb appears only once, and take the first non-null value for each year\n",
    "unique_forecast_df = formatted_forecast_df.groupby(['Statistical Areas Level 2 2021 code', 'sa2_name_2016']).agg({\n",
    "    '2011_Forecast': 'first',\n",
    "    '2014_Forecast': 'first',\n",
    "    '2015_Forecast': 'first',\n",
    "    '2016_Forecast': 'first',\n",
    "    '2017_Forecast': 'first'\n",
    "}).reset_index()\n"
   ]
  },
  {
   "cell_type": "code",
   "execution_count": 38,
   "metadata": {},
   "outputs": [
    {
     "data": {
      "text/html": [
       "<div>\n",
       "<style scoped>\n",
       "    .dataframe tbody tr th:only-of-type {\n",
       "        vertical-align: middle;\n",
       "    }\n",
       "\n",
       "    .dataframe tbody tr th {\n",
       "        vertical-align: top;\n",
       "    }\n",
       "\n",
       "    .dataframe thead th {\n",
       "        text-align: right;\n",
       "    }\n",
       "</style>\n",
       "<table border=\"1\" class=\"dataframe\">\n",
       "  <thead>\n",
       "    <tr style=\"text-align: right;\">\n",
       "      <th></th>\n",
       "      <th>Statistical Areas Level 2 2021 code</th>\n",
       "      <th>Suburb</th>\n",
       "      <th>2011_Forecast</th>\n",
       "      <th>2012_Forecast</th>\n",
       "      <th>2013_Forecast</th>\n",
       "      <th>2014_Forecast</th>\n",
       "      <th>2015_Forecast</th>\n",
       "      <th>2016_Forecast</th>\n",
       "      <th>2017_Forecast</th>\n",
       "    </tr>\n",
       "  </thead>\n",
       "  <tbody>\n",
       "    <tr>\n",
       "      <th>0</th>\n",
       "      <td>201011001</td>\n",
       "      <td>Alfredton</td>\n",
       "      <td>53432.300711</td>\n",
       "      <td>47374.846028</td>\n",
       "      <td>48517.071460</td>\n",
       "      <td>49263.565645</td>\n",
       "      <td>50170.087016</td>\n",
       "      <td>54500.946725</td>\n",
       "      <td>55590.965660</td>\n",
       "    </tr>\n",
       "    <tr>\n",
       "      <th>1</th>\n",
       "      <td>201011002</td>\n",
       "      <td>Ballarat</td>\n",
       "      <td>53427.649686</td>\n",
       "      <td>48983.463985</td>\n",
       "      <td>49079.438428</td>\n",
       "      <td>51245.827182</td>\n",
       "      <td>50976.856327</td>\n",
       "      <td>54496.202680</td>\n",
       "      <td>55586.126734</td>\n",
       "    </tr>\n",
       "    <tr>\n",
       "      <th>2</th>\n",
       "      <td>201011005</td>\n",
       "      <td>Buninyong</td>\n",
       "      <td>53434.168203</td>\n",
       "      <td>48096.026338</td>\n",
       "      <td>48160.656680</td>\n",
       "      <td>48454.660943</td>\n",
       "      <td>49869.710290</td>\n",
       "      <td>54502.851567</td>\n",
       "      <td>55592.908599</td>\n",
       "    </tr>\n",
       "    <tr>\n",
       "      <th>3</th>\n",
       "      <td>201011006</td>\n",
       "      <td>Delacombe</td>\n",
       "      <td>53433.458267</td>\n",
       "      <td>42962.681074</td>\n",
       "      <td>44104.552914</td>\n",
       "      <td>44806.359633</td>\n",
       "      <td>45933.596608</td>\n",
       "      <td>54502.127432</td>\n",
       "      <td>55592.169981</td>\n",
       "    </tr>\n",
       "    <tr>\n",
       "      <th>4</th>\n",
       "      <td>201011007</td>\n",
       "      <td>Smythes Creek</td>\n",
       "      <td>53427.649686</td>\n",
       "      <td>45307.819756</td>\n",
       "      <td>45709.905976</td>\n",
       "      <td>46621.391935</td>\n",
       "      <td>48000.556821</td>\n",
       "      <td>54496.202680</td>\n",
       "      <td>55586.126734</td>\n",
       "    </tr>\n",
       "  </tbody>\n",
       "</table>\n",
       "</div>"
      ],
      "text/plain": [
       "  Statistical Areas Level 2 2021 code         Suburb  2011_Forecast  \\\n",
       "0                           201011001      Alfredton   53432.300711   \n",
       "1                           201011002       Ballarat   53427.649686   \n",
       "2                           201011005      Buninyong   53434.168203   \n",
       "3                           201011006      Delacombe   53433.458267   \n",
       "4                           201011007  Smythes Creek   53427.649686   \n",
       "\n",
       "   2012_Forecast  2013_Forecast  2014_Forecast  2015_Forecast  2016_Forecast  \\\n",
       "0   47374.846028   48517.071460   49263.565645   50170.087016   54500.946725   \n",
       "1   48983.463985   49079.438428   51245.827182   50976.856327   54496.202680   \n",
       "2   48096.026338   48160.656680   48454.660943   49869.710290   54502.851567   \n",
       "3   42962.681074   44104.552914   44806.359633   45933.596608   54502.127432   \n",
       "4   45307.819756   45709.905976   46621.391935   48000.556821   54496.202680   \n",
       "\n",
       "   2017_Forecast  \n",
       "0   55590.965660  \n",
       "1   55586.126734  \n",
       "2   55592.908599  \n",
       "3   55592.169981  \n",
       "4   55586.126734  "
      ]
     },
     "execution_count": 38,
     "metadata": {},
     "output_type": "execute_result"
    }
   ],
   "source": [
    "# Add forecasts for 2012 and 2013 based on a 2% increase from 2011\n",
    "unique_forecast_df['2012_Forecast'] = unique_forecast_df['2011_Forecast'] * 1.02\n",
    "unique_forecast_df['2013_Forecast'] = unique_forecast_df['2012_Forecast'] * 1.02\n",
    "unique_forecast_df['2018_Forecast'] = unique_forecast_df['2017_Forecast'] * 1.02\n",
    "unique_forecast_df['2019 Forecast'] = unique_forecast_df['2018_Forecast'] * 1.02\n",
    "unique_forecast_df['2020 Forecast'] = unique_forecast_df['2019_Forecast'] * 1.02\n",
    "unique_forecast_df['2021 Forecast'] = unique_forecast_df['2020_Forecast'] * 1.02\n",
    "unique_forecast_df['2022 Forecast'] = unique_forecast_df['2021_Forecast'] * 1.02\n",
    "unique_forecast_df['2023 Forecast'] = unique_forecast_df['2022_Forecast'] * 1.02\n",
    "unique_forecast_df['2024 Forecast'] = unique_forecast_df['2023_Forecast'] * 1.02\n",
    "unique_forecast_df['2025 Forecast'] = unique_forecast_df['2024_Forecast'] * 1.02\n",
    "unique_forecast_df['2026 Forecast'] = unique_forecast_df['2025_Forecast'] * 1.02\n",
    "unique_forecast_df['2027 Forecast'] = unique_forecast_df['2026_Forecast'] * 1.02\n",
    "\n",
    "# Rename columns to match the desired format\n",
    "unique_forecast_df.columns = ['Statistical Areas Level 2 2021 code', 'Suburb', \n",
    "                              '2011_Forecast', '2012_Forecast', '2013_Forecast', \n",
    "                              '2014_Forecast', '2015_Forecast', '2016_Forecast', '2017_Forecast','2018_Forecast',\n",
    "                              '2019_Forecast' ,'2020_Forecast','2021_Forecast','2022_Forecast', '2023_Forecast',\n",
    "                              '2024_Forecast','2025_Forecast','2026_Forecast','2027_Forecast']\n",
    "\n",
    "# Display the first few rows of the unique forecast data with the new columns\n",
    "unique_forecast_df.head()"
   ]
  },
  {
   "cell_type": "code",
   "execution_count": null,
   "metadata": {},
   "outputs": [],
   "source": [
    "forecast_2020_2023 = pd.read_csv(\"\")"
   ]
  },
  {
   "cell_type": "code",
   "execution_count": null,
   "metadata": {},
   "outputs": [],
   "source": [
    "# Merge the 2011-2023 data\n",
    "forecast_2011_2023 = unique_forecast_df.merge(forecast_2020_2023, how='inner', on='Statistical Areas Level 2 2021 code')"
   ]
  },
  {
   "cell_type": "code",
   "execution_count": 40,
   "metadata": {},
   "outputs": [],
   "source": [
    "unique_forecast_df.to_csv('median_income_prediction 2011-2019-final.csv', index=False)"
   ]
  },
  {
   "cell_type": "code",
   "execution_count": 20,
   "metadata": {},
   "outputs": [
    {
     "name": "stdout",
     "output_type": "stream",
     "text": [
      "         Code         Suburb  2018_Forecast\n",
      "23  201011001      Alfredton   53069.948076\n",
      "29  201011002       Ballarat   53100.680418\n",
      "35  201011005      Buninyong   53442.461965\n",
      "41  201011006      Delacombe   53035.120590\n",
      "47  201011007  Smythes Creek   53360.293090\n"
     ]
    }
   ],
   "source": [
    "# Create a DataFrame to display the results for 2018 with Code, Suburb, and Predicted 2018 Forecast\n",
    "test_data_2018 = victoria_income_cleaned[victoria_income_cleaned['yr'] == 2018].copy()\n",
    "test_data_2018['2018_Forecast'] = y_pred\n",
    "\n",
    "# Select the columns 'Statistical Areas Level 2 2021 code', 'sa2_name_2016', and the new forecasted column\n",
    "final_2018_forecast = test_data_2018[['Statistical Areas Level 2 2021 code', 'sa2_name_2016', '2018_Forecast']]\n",
    "\n",
    "# Rename columns to match the desired format ('Code', 'Suburb', '2018_Forecast')\n",
    "final_2018_forecast.columns = ['Code', 'Suburb', '2018_Forecast']\n",
    "\n",
    "# Display the final output similar to the format shown in your image\n",
    "print(final_2018_forecast.head())"
   ]
  },
  {
   "cell_type": "code",
   "execution_count": 24,
   "metadata": {},
   "outputs": [],
   "source": [
    "#final_forecast_df.to_csv('median_income_prediction 2011-2019.csv', index=False)"
   ]
  }
 ],
 "metadata": {
  "kernelspec": {
   "display_name": "Python 3",
   "language": "python",
   "name": "python3"
  },
  "language_info": {
   "codemirror_mode": {
    "name": "ipython",
    "version": 3
   },
   "file_extension": ".py",
   "mimetype": "text/x-python",
   "name": "python",
   "nbconvert_exporter": "python",
   "pygments_lexer": "ipython3",
   "version": "3.10.12"
  }
 },
 "nbformat": 4,
 "nbformat_minor": 2
}
