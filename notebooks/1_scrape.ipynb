{
 "cells": [
  {
   "cell_type": "markdown",
   "metadata": {},
   "source": [
    "The data for this project is obtained through webscraping from Domain Australia. The IDs of different rental agencies were obtained manually by going through the agency list in Victoria, and then were added into the notebooks under 'agency_ids'. The webscraping was split up into three notebooks due to the limitations placed on scraping per day at 500 pages."
   ]
  },
  {
   "cell_type": "code",
   "execution_count": null,
   "metadata": {},
   "outputs": [],
   "source": [
    "import sys\n",
    "sys.path.append('../scripts')  # Add the scripts directory to the system path\n",
    "\n",
    "# Now you can import your modules from the scripts folder\n",
    "from auth import get_access_token\n",
    "from fetch_agency_data import fetch_agency_data\n",
    "\n",
    "import json\n",
    "\n",
    "# API client credentials and URL configuration\n",
    "client_id = 'client_c384fb10109a87ddf42ad763731ef720'\n",
    "client_secret = 'secret_86d78b49de34d0949cf0d455b99edc15'\n",
    "scopes = ['api_listings_read']\n",
    "auth_url = 'https://auth.domain.com.au/v1/connect/token'\n",
    "api_url_base = 'https://api.domain.com.au/sandbox/v1'\n",
    "\n",
    "# List of agency IDs\n",
    "agency_ids = ['11862', '25876', '5265', '7301', '35557', '11673', '1638', '11919', '31498', '12438', '31826', '24877', '6936', '14857', '32238', '17234', '22721', '24193', '23154', '15964', '32563', '13411', '14522', '31119', '10292', '6500', '32633', '7218', '26113', '18426', '4719', '29733', '12185', '15424', '11931', '21762', '32340', '18193', '16985', '27962', '4714', '20419', '31877', '14503', '22013', '32370', '32851', '12373', '20366', '19325', '18765', '26155', '32474', '11825', '19113', '13303', '33394', '17337', '18039', '27499', '20864', '21537', '31452', '16913', '31399', '36194', '31040', '7636', '12612', '5005', '16668', '26896', '22398', '32621', '15309', '35120', '7728']\n",
    "\n",
    "# Parameters for the GET request\n",
    "params = {\n",
    "    'listingStatusFilter': 'liveAndArchived',\n",
    "    'pageSize': 200  # Fetching 200 listings per page\n",
    "}\n",
    "\n",
    "def main():\n",
    "    # Retrieve access token using the auth module\n",
    "    access_token = get_access_token(client_id, client_secret, scopes, auth_url)\n",
    "    \n",
    "    # Fetch and save listings for each agency\n",
    "    for agency_id in agency_ids:\n",
    "        print(f\"Fetching data for agency {agency_id}...\")\n",
    "        listings = fetch_agency_data(agency_id, access_token, params, api_url_base)\n",
    "        \n",
    "        # Store the data in a JSON file\n",
    "        with open(f'../data/landing/listings_agency_{agency_id}.json', 'w') as f:\n",
    "            json.dump(listings, f, indent=2)\n",
    "        \n",
    "        print(f\"Data for agency {agency_id} saved.\\n\")\n",
    "\n",
    "if __name__ == \"__main__\":\n",
    "    main()\n"
   ]
  }
 ],
 "metadata": {
  "kernelspec": {
   "display_name": "Python 3",
   "language": "python",
   "name": "python3"
  },
  "language_info": {
   "codemirror_mode": {
    "name": "ipython",
    "version": 3
   },
   "file_extension": ".py",
   "mimetype": "text/x-python",
   "name": "python",
   "nbconvert_exporter": "python",
   "pygments_lexer": "ipython3",
   "version": "3.10.12"
  }
 },
 "nbformat": 4,
 "nbformat_minor": 2
}
