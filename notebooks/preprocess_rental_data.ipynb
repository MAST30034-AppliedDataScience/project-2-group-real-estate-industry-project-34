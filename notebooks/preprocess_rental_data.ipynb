{
 "cells": [
  {
   "cell_type": "markdown",
   "metadata": {},
   "source": [
    "## Filling Missing Coordinates in Rental Listings Dataset\n",
    "\n",
    "This notebook addresses the missing geographic coordinates (latitude and longitude) in the rental listings dataset. These coordinates are essential for spatial analysis, mapping, and understanding the geographic distribution of rental properties.\n",
    "\n",
    "\n"
   ]
  },
  {
   "cell_type": "code",
   "execution_count": 1,
   "metadata": {},
   "outputs": [],
   "source": [
    "import pandas as pd\n",
    "import geopandas as gpd\n",
    "from utilities import find_location_id, get_coordinates"
   ]
  },
  {
   "cell_type": "code",
   "execution_count": 2,
   "metadata": {},
   "outputs": [],
   "source": [
    "rent_data = pd.read_parquet(\"/root/project-2-group-real-estate-industry-project-34/data/landing/feature_selected_rental_listings.parquet\")\n",
    "sf = gpd.read_file(\"/root/MAST30034_Python/data/vic_zones/SA2_2021_AUST_GDA2020.shp\")\n"
   ]
  },
  {
   "cell_type": "code",
   "execution_count": 3,
   "metadata": {},
   "outputs": [
    {
     "data": {
      "text/plain": [
       "address               196908\n",
       "state                 196908\n",
       "suburb                196908\n",
       "bedrooms              196908\n",
       "bathrooms             196908\n",
       "propertyTypes         196898\n",
       "carspaces             196908\n",
       "date_listed           196908\n",
       "latitude              191569\n",
       "longitude             191569\n",
       "is_new_development    196908\n",
       "price                 196908\n",
       "propertyId            131200\n",
       "is_furnished          196908\n",
       "year                  196908\n",
       "month                 196908\n",
       "day                   196908\n",
       "dtype: int64"
      ]
     },
     "execution_count": 3,
     "metadata": {},
     "output_type": "execute_result"
    }
   ],
   "source": [
    "rent_data.count()"
   ]
  },
  {
   "cell_type": "markdown",
   "metadata": {},
   "source": [
    "Filling Missing Coordinates: We loop over each listing that is missing latitude and longitude. For each missing value, we use the get_coordinates() function, which likely uses the listing’s address to retrieve geographic coordinates using Google Maps API"
   ]
  },
  {
   "cell_type": "code",
   "execution_count": 4,
   "metadata": {},
   "outputs": [],
   "source": [
    "# Fill missing geoLocation.latitude and geoLocation.longitude values\n",
    "for index, row in rent_data[rent_data[\"latitude\"].isnull()].iterrows():\n",
    "    address = row[\"address\"]\n",
    "    if address:  # Ensure address is not empty\n",
    "        lat, lon = get_coordinates(address)  # Get the coordinates using the function\n",
    "        rent_data.at[index, \"latitude\"] = lat\n",
    "        rent_data.at[index, \"longitude\"] = lon\n"
   ]
  },
  {
   "cell_type": "markdown",
   "metadata": {},
   "source": [
    "Mapping to SA2 Regions: Once the coordinates are filled, we map each property to its corresponding SA2 region using the find_location_id() function. "
   ]
  },
  {
   "cell_type": "code",
   "execution_count": 5,
   "metadata": {},
   "outputs": [],
   "source": [
    "# Apply the 'find_location_id' function to each row in 'rent_data'\n",
    "rent_data['SA2_CODE21'] = rent_data.apply(\n",
    "    lambda row: find_location_id(row['latitude'], row['longitude'], sf), axis=1\n",
    ")"
   ]
  },
  {
   "cell_type": "code",
   "execution_count": 6,
   "metadata": {},
   "outputs": [],
   "source": [
    "# Save the cleaned DataFrame to a Parquet file\n",
    "rent_data.to_parquet(\"preprocessed_rent_data.parquet\", index=False)"
   ]
  }
 ],
 "metadata": {
  "kernelspec": {
   "display_name": "Python 3",
   "language": "python",
   "name": "python3"
  },
  "language_info": {
   "codemirror_mode": {
    "name": "ipython",
    "version": 3
   },
   "file_extension": ".py",
   "mimetype": "text/x-python",
   "name": "python",
   "nbconvert_exporter": "python",
   "pygments_lexer": "ipython3",
   "version": "3.10.12"
  }
 },
 "nbformat": 4,
 "nbformat_minor": 2
}
