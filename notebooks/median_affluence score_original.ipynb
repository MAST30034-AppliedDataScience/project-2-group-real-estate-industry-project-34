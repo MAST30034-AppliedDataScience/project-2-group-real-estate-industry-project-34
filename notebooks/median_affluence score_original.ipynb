{
 "cells": [
  {
   "cell_type": "code",
   "execution_count": 1,
   "metadata": {},
   "outputs": [],
   "source": [
    "import pandas as pd \n",
    "import geopandas as gpd\n",
    "income_data = pd.read_csv(\"/home/ryanwonhail/project-2-group-real-estate-industry-project-34/data/raw/ABS_Income_including_government_allowances_by_2021_SA2_Nov_2023_4261441096398674898 (1).csv\")\n",
    "sf = gpd.read_file(\"/home/ryanwonhail/project-2-group-real-estate-industry-project-34/data/SA2 Zones/SA2_2021_AUST_GDA2020.shp\")\n"
   ]
  },
  {
   "cell_type": "code",
   "execution_count": 2,
   "metadata": {},
   "outputs": [
    {
     "data": {
      "text/plain": [
       "OBJECTID                                                                            2473\n",
       "Statistical Areas Level 2 2021 code                                                 2473\n",
       "Statistical Areas Level 2 2021 name                                                 2473\n",
       "Area in square kilometres                                                           2454\n",
       "Uniform Resource Identifier                                                         2473\n",
       "                                                                                    ... \n",
       "Equivalised total household income: Partial income stated (%) (Data year: 2021)     2341\n",
       "Equivalised total household income: All incomes not stated (%) (Data year: 2021)    2332\n",
       "globalid                                                                            2473\n",
       "Shape__Area                                                                         2454\n",
       "Shape__Length                                                                       2454\n",
       "Length: 79, dtype: int64"
      ]
     },
     "execution_count": 2,
     "metadata": {},
     "output_type": "execute_result"
    }
   ],
   "source": [
    "income_data.count()"
   ]
  },
  {
   "cell_type": "code",
   "execution_count": 3,
   "metadata": {},
   "outputs": [
    {
     "name": "stdout",
     "output_type": "stream",
     "text": [
      "income test\n",
      "test\n"
     ]
    }
   ],
   "source": [
    "income_data.shape\n",
    "income_data.columns\n",
    "print(\"income test\")\n",
    "print(\"test\")"
   ]
  },
  {
   "cell_type": "code",
   "execution_count": 4,
   "metadata": {},
   "outputs": [],
   "source": [
    "#income_data[income_data[\"Statistical Areas Level 2 2021 name\"] == \"Toorak\"]\n",
    "# Filter for the row where the suburb is 'Toorak'\n",
    "#toorak_row = income_data[income_data[\"Statistical Areas Level 2 2021 name\"] == \"Toorak\"]\n",
    "#null_columns_in_toorak = toorak_row.isnull().any()\n",
    "#null_columns_in_toorak[null_columns_in_toorak == True]"
   ]
  },
  {
   "cell_type": "code",
   "execution_count": 5,
   "metadata": {},
   "outputs": [
    {
     "name": "stdout",
     "output_type": "stream",
     "text": [
      "Personal income: Median investment income ($) (Data year: 2020)                                                                  514\n",
      "Personal income: Total income (excl. Government pensions and allowances): p10/P50 ratio (Data year: 2020)                        493\n",
      "Personal income: Total income (excl. Government pensions and allowances): Income share of top 1% of earners (Data year: 2020)    487\n",
      "Personal income: Total superannuation and annuity income ($m) (Data year: 2020)                                                  472\n",
      "Personal income: Superannuation and annuity income as main source of income (%) (Data year: 2020)                                469\n",
      "Personal income: Superannuation and annuity income earners (no.) (Data year: 2020)                                               468\n",
      "Personal income: Superannuation and annuity income earners: Median age (years) (Data year: 2020)                                 468\n",
      "Personal income: Median superannuation and annuity income ($) (Data year: 2020)                                                  468\n",
      "Personal income: Mean superannuation and annuity income ($) (Data year: 2020)                                                    468\n",
      "Personal income: Total income (excl. Government pensions and allowances): p80/P20 ratio (Data year: 2020)                        464\n",
      "dtype: int64\n",
      "514\n"
     ]
    }
   ],
   "source": [
    "# Check the number of null values in the 'income' column\n",
    "null_values = income_data.isnull().sum().nlargest(10)\n",
    "print(null_values)\n",
    "max_null_values = income_data.isnull().sum().max()\n",
    "print(max_null_values)\n"
   ]
  },
  {
   "cell_type": "code",
   "execution_count": 6,
   "metadata": {},
   "outputs": [
    {
     "name": "stdout",
     "output_type": "stream",
     "text": [
      "Series([], dtype: float64)\n"
     ]
    }
   ],
   "source": [
    "missing_percentage = income_data.isnull().mean() * 100\n",
    "\n",
    "\n",
    "high_missing_cols = missing_percentage[missing_percentage > 50]  \n",
    "print(high_missing_cols)"
   ]
  },
  {
   "cell_type": "code",
   "execution_count": 7,
   "metadata": {},
   "outputs": [],
   "source": [
    "income_data_cleaned = income_data.dropna()"
   ]
  },
  {
   "cell_type": "code",
   "execution_count": 8,
   "metadata": {},
   "outputs": [
    {
     "data": {
      "text/plain": [
       "OBJECTID                                                                            0\n",
       "Statistical Areas Level 2 2021 code                                                 0\n",
       "Statistical Areas Level 2 2021 name                                                 0\n",
       "Area in square kilometres                                                           0\n",
       "Uniform Resource Identifier                                                         0\n",
       "                                                                                   ..\n",
       "Equivalised total household income: Partial income stated (%) (Data year: 2021)     0\n",
       "Equivalised total household income: All incomes not stated (%) (Data year: 2021)    0\n",
       "globalid                                                                            0\n",
       "Shape__Area                                                                         0\n",
       "Shape__Length                                                                       0\n",
       "Length: 79, dtype: int64"
      ]
     },
     "execution_count": 8,
     "metadata": {},
     "output_type": "execute_result"
    }
   ],
   "source": [
    "null_values_clean = income_data_cleaned.isnull().sum()\n",
    "null_values_clean"
   ]
  },
  {
   "cell_type": "code",
   "execution_count": 9,
   "metadata": {},
   "outputs": [
    {
     "data": {
      "text/plain": [
       "Index(['OBJECTID', 'Statistical Areas Level 2 2021 code',\n",
       "       'Statistical Areas Level 2 2021 name', 'Area in square kilometres',\n",
       "       'Uniform Resource Identifier',\n",
       "       'Personal income: Employee income earners (no.) (Data year: 2020)',\n",
       "       'Personal income: Employee income earners: Median age (years) (Data year: 2020)',\n",
       "       'Personal income: Total employee income ($m) (Data year: 2020)',\n",
       "       'Personal income: Median employee income ($) (Data year: 2020)',\n",
       "       'Personal income: Mean employee income ($) (Data year: 2020)',\n",
       "       'Personal income: Employee income as main source of income (%) (Data year: 2020)',\n",
       "       'Personal income: Own unincorporated business income earners (no.) (Data year: 2020)',\n",
       "       'Personal income: Own unincorporated business income earners: Median age (years) (Data year: 2020)',\n",
       "       'Personal income: Total own unincorporated business income ($m) (Data year: 2020)',\n",
       "       'Personal income: Median own unincorporated business income ($) (Data year: 2020)',\n",
       "       'Personal income: Mean own unincorporated business income ($) (Data year: 2020)',\n",
       "       'Personal income: Own unincorporated business income as main source of income (%) (Data year: 2020)',\n",
       "       'Personal income: Investment income earners (no.) (Data year: 2020)',\n",
       "       'Personal income: Investment income earners: Median age (years) (Data year: 2020)',\n",
       "       'Personal income: Total investment income ($m) (Data year: 2020)',\n",
       "       'Personal income: Median investment income ($) (Data year: 2020)',\n",
       "       'Personal income: Mean investment income ($) (Data year: 2020)',\n",
       "       'Personal income: Investment income as main source of income (%) (Data year: 2020)',\n",
       "       'Personal income: Superannuation and annuity income earners (no.) (Data year: 2020)',\n",
       "       'Personal income: Superannuation and annuity income earners: Median age (years) (Data year: 2020)',\n",
       "       'Personal income: Total superannuation and annuity income ($m) (Data year: 2020)',\n",
       "       'Personal income: Median superannuation and annuity income ($) (Data year: 2020)',\n",
       "       'Personal income: Mean superannuation and annuity income ($) (Data year: 2020)',\n",
       "       'Personal income: Superannuation and annuity income as main source of income (%) (Data year: 2020)',\n",
       "       'Personal income: Total income earners (excl. Government pensions and allowances)(no.) (Data year: 2020)',\n",
       "       'Personal income: Total income earners (excl. Government pensions and allowances): Median age (years) (Data year: 2020)',\n",
       "       'Personal income: Total income (excl. Government pensions and allowances) ($m) (Data year: 2020)',\n",
       "       'Personal income: Median total income (excl. Government pensions and allowances) ($) (Data year: 2020)',\n",
       "       'Personal income: Mean total income (excl. Government pensions and allowances) ($) (Data year: 2020)',\n",
       "       'Personal income: Total income (excl. Government pensions and allowances): p80/P20 ratio (Data year: 2020)',\n",
       "       'Personal income: Total income (excl. Government pensions and allowances): p80/P50 ratio (Data year: 2020)',\n",
       "       'Personal income: Total income (excl. Government pensions and allowances): p20/P50 ratio (Data year: 2020)',\n",
       "       'Personal income: Total income (excl. Government pensions and allowances): p10/P50 ratio (Data year: 2020)',\n",
       "       'Personal income: Total income (excl. Government pensions and allowances): Gini coefficient (Data year: 2020)',\n",
       "       'Personal income: Total income (excl. Government pensions and allowances): Income share of top 1% of earners (Data year: 2020)',\n",
       "       'Personal income: Total income (excl. Government pensions and allowances): Income share of top 5% of earners (Data year: 2020)',\n",
       "       'Personal income: Total income (excl. Government pensions and allowances): Income share of top 10% of earners (Data year: 2020)',\n",
       "       'Personal income: Total income (excl. Government pensions and allowances): Lowest Quartile (%) (Data year: 2020)',\n",
       "       'Personal income: Total income (excl. Government pensions and allowances): Second Quartile (%) (Data year: 2020)',\n",
       "       'Personal income: Total income (excl. Government pensions and allowances): Third Quartile (%) (Data year: 2020)',\n",
       "       'Personal income: Total income (excl. Government pensions and allowances): Highest Quartile (%) (Data year: 2020)',\n",
       "       'Government pensions and allowances: Age pension (no.) (Data year: 2023)',\n",
       "       'Government pensions and allowances: Carer payment (no.) (Data year: 2023)',\n",
       "       'Government pensions and allowances: Carer allowance (no.) (Data year: 2023)',\n",
       "       'Government pensions and allowances: Disability support pension (no.) (Data year: 2023)',\n",
       "       'Government pensions and allowances: Jobseeker payment (no.) (Data year: 2023)',\n",
       "       'Government pensions and allowances: Newstart allowance (no.) (Data year: 2019)',\n",
       "       'Government pensions and allowances: Parenting payment: Single (no.) (Data year: 2023)',\n",
       "       'Government pensions and allowances: Parenting payment: Partnered (no.) (Data year: 2023)',\n",
       "       'Government pensions and allowances: Youth allowance (full time students/apprentices) (no.) (Data year: 2023)',\n",
       "       'Government pensions and allowances: Youth allowance (other) (no.) (Data year: 2023)',\n",
       "       'Government pensions and allowances: Family tax benefit A (no.) (Data year: 2023)',\n",
       "       'Government pensions and allowances: Family tax benefit B (no.) (Data year: 2023)',\n",
       "       'Government pensions and allowances: Commonwealth rent assistance (no.) (Data year: 2023)',\n",
       "       'Total personal income: Persons earning $1-$499 per week (%) (Data year: 2021)',\n",
       "       'Total personal income: Persons earning $500-$999 per week (%) (Data year: 2021)',\n",
       "       'Total personal income: Persons earning $1000-$1999 per week (%) (Data year: 2021)',\n",
       "       'Total personal income: Persons earning $2000-$2999 per week (%) (Data year: 2021)',\n",
       "       'Total personal income: Persons earning $3000 or more per week (%) (Data year: 2021)',\n",
       "       'Total personal income: Persons earning nil income (%) (Data year: 2021)',\n",
       "       'Total personal income: Persons with a negative income (%) (Data year: 2021)',\n",
       "       'Total personal income: Income inadequately described/not stated (%) (Data year: 2021)',\n",
       "       'Median equivalised total household income (weekly) ($) (Data year: 2021)',\n",
       "       'Equivalised total household income: $1-$499 per week (%) (Data year: 2021)',\n",
       "       'Equivalised total household income: $500-$999 per week (%) (Data year: 2021)',\n",
       "       'Equivalised total household income: $1000-$1999 per week (%) (Data year: 2021)',\n",
       "       'Equivalised total household income: $2000-$2999 per week (%) (Data year: 2021)',\n",
       "       'Equivalised total household income: $3000 or more per week (%) (Data year: 2021)',\n",
       "       'Equivalised total household income: Nil income (%) (Data year: 2021)',\n",
       "       'Equivalised total household income: Partial income stated (%) (Data year: 2021)',\n",
       "       'Equivalised total household income: All incomes not stated (%) (Data year: 2021)',\n",
       "       'globalid', 'Shape__Area', 'Shape__Length'],\n",
       "      dtype='object')"
      ]
     },
     "execution_count": 9,
     "metadata": {},
     "output_type": "execute_result"
    }
   ],
   "source": [
    "income_data_cleaned.head(2)\n",
    "income_data_cleaned.columns\n",
    "#1680 Southbank\n",
    "#877 CBD"
   ]
  },
  {
   "cell_type": "code",
   "execution_count": 31,
   "metadata": {},
   "outputs": [],
   "source": []
  },
  {
   "cell_type": "code",
   "execution_count": 10,
   "metadata": {},
   "outputs": [
    {
     "data": {
      "text/plain": [
       "Statistical Areas Level 2 2021 code                                                 312\n",
       "SA2_NAME21                                                                          312\n",
       "CHG_FLAG21                                                                          312\n",
       "CHG_LBL21                                                                           312\n",
       "SA3_CODE21                                                                          312\n",
       "                                                                                   ... \n",
       "Equivalised total household income: Partial income stated (%) (Data year: 2021)     312\n",
       "Equivalised total household income: All incomes not stated (%) (Data year: 2021)    312\n",
       "globalid                                                                            312\n",
       "Shape__Area                                                                         312\n",
       "Shape__Length                                                                       312\n",
       "Length: 95, dtype: int64"
      ]
     },
     "execution_count": 10,
     "metadata": {},
     "output_type": "execute_result"
    }
   ],
   "source": [
    "# Merge the two dataframes on the common column 'SA2_CODE21'\n",
    "sf.rename(columns={'SA2_CODE21': 'Statistical Areas Level 2 2021 code'}, inplace=True)\n",
    "merged_df = sf.merge(income_data_cleaned, how='inner', on='Statistical Areas Level 2 2021 code')\n",
    "\n",
    "\n",
    "merged_df.count()\n",
    "merged_df['STE_NAME21'].unique()\n",
    "merged_df[merged_df['STE_NAME21']== \"Victoria\"].count()\n"
   ]
  },
  {
   "cell_type": "code",
   "execution_count": 11,
   "metadata": {},
   "outputs": [
    {
     "data": {
      "text/plain": [
       "(312, 95)"
      ]
     },
     "execution_count": 11,
     "metadata": {},
     "output_type": "execute_result"
    }
   ],
   "source": [
    "victoria_income = merged_df[merged_df['STE_NAME21'] == 'Victoria']\n",
    "victoria_income.shape\n"
   ]
  },
  {
   "cell_type": "code",
   "execution_count": 12,
   "metadata": {},
   "outputs": [
    {
     "data": {
      "text/plain": [
       "Index(['Statistical Areas Level 2 2021 code',\n",
       "       'Statistical Areas Level 2 2021 name', 'Area in square kilometres',\n",
       "       'Uniform Resource Identifier',\n",
       "       'Personal income: Employee income earners (no.) (Data year: 2020)',\n",
       "       'Personal income: Employee income earners: Median age (years) (Data year: 2020)',\n",
       "       'Personal income: Total employee income ($m) (Data year: 2020)',\n",
       "       'Personal income: Median employee income ($) (Data year: 2020)',\n",
       "       'Personal income: Mean employee income ($) (Data year: 2020)',\n",
       "       'Personal income: Employee income as main source of income (%) (Data year: 2020)',\n",
       "       'Personal income: Own unincorporated business income earners (no.) (Data year: 2020)',\n",
       "       'Personal income: Own unincorporated business income earners: Median age (years) (Data year: 2020)',\n",
       "       'Personal income: Total own unincorporated business income ($m) (Data year: 2020)',\n",
       "       'Personal income: Median own unincorporated business income ($) (Data year: 2020)',\n",
       "       'Personal income: Mean own unincorporated business income ($) (Data year: 2020)',\n",
       "       'Personal income: Own unincorporated business income as main source of income (%) (Data year: 2020)',\n",
       "       'Personal income: Investment income earners (no.) (Data year: 2020)',\n",
       "       'Personal income: Investment income earners: Median age (years) (Data year: 2020)',\n",
       "       'Personal income: Total investment income ($m) (Data year: 2020)',\n",
       "       'Personal income: Median investment income ($) (Data year: 2020)',\n",
       "       'Personal income: Mean investment income ($) (Data year: 2020)',\n",
       "       'Personal income: Investment income as main source of income (%) (Data year: 2020)',\n",
       "       'Personal income: Superannuation and annuity income earners (no.) (Data year: 2020)',\n",
       "       'Personal income: Superannuation and annuity income earners: Median age (years) (Data year: 2020)',\n",
       "       'Personal income: Total superannuation and annuity income ($m) (Data year: 2020)',\n",
       "       'Personal income: Median superannuation and annuity income ($) (Data year: 2020)',\n",
       "       'Personal income: Mean superannuation and annuity income ($) (Data year: 2020)',\n",
       "       'Personal income: Superannuation and annuity income as main source of income (%) (Data year: 2020)',\n",
       "       'Personal income: Total income earners (excl. Government pensions and allowances)(no.) (Data year: 2020)',\n",
       "       'Personal income: Total income earners (excl. Government pensions and allowances): Median age (years) (Data year: 2020)',\n",
       "       'Personal income: Total income (excl. Government pensions and allowances) ($m) (Data year: 2020)',\n",
       "       'Personal income: Median total income (excl. Government pensions and allowances) ($) (Data year: 2020)',\n",
       "       'Personal income: Mean total income (excl. Government pensions and allowances) ($) (Data year: 2020)',\n",
       "       'Personal income: Total income (excl. Government pensions and allowances): p80/P20 ratio (Data year: 2020)',\n",
       "       'Personal income: Total income (excl. Government pensions and allowances): p80/P50 ratio (Data year: 2020)',\n",
       "       'Personal income: Total income (excl. Government pensions and allowances): p20/P50 ratio (Data year: 2020)',\n",
       "       'Personal income: Total income (excl. Government pensions and allowances): p10/P50 ratio (Data year: 2020)',\n",
       "       'Personal income: Total income (excl. Government pensions and allowances): Gini coefficient (Data year: 2020)',\n",
       "       'Personal income: Total income (excl. Government pensions and allowances): Income share of top 1% of earners (Data year: 2020)',\n",
       "       'Personal income: Total income (excl. Government pensions and allowances): Income share of top 5% of earners (Data year: 2020)',\n",
       "       'Personal income: Total income (excl. Government pensions and allowances): Income share of top 10% of earners (Data year: 2020)',\n",
       "       'Personal income: Total income (excl. Government pensions and allowances): Lowest Quartile (%) (Data year: 2020)',\n",
       "       'Personal income: Total income (excl. Government pensions and allowances): Second Quartile (%) (Data year: 2020)',\n",
       "       'Personal income: Total income (excl. Government pensions and allowances): Third Quartile (%) (Data year: 2020)',\n",
       "       'Personal income: Total income (excl. Government pensions and allowances): Highest Quartile (%) (Data year: 2020)',\n",
       "       'Government pensions and allowances: Age pension (no.) (Data year: 2023)',\n",
       "       'Government pensions and allowances: Carer payment (no.) (Data year: 2023)',\n",
       "       'Government pensions and allowances: Carer allowance (no.) (Data year: 2023)',\n",
       "       'Government pensions and allowances: Disability support pension (no.) (Data year: 2023)',\n",
       "       'Government pensions and allowances: Jobseeker payment (no.) (Data year: 2023)',\n",
       "       'Government pensions and allowances: Newstart allowance (no.) (Data year: 2019)',\n",
       "       'Government pensions and allowances: Parenting payment: Single (no.) (Data year: 2023)',\n",
       "       'Government pensions and allowances: Parenting payment: Partnered (no.) (Data year: 2023)',\n",
       "       'Government pensions and allowances: Youth allowance (full time students/apprentices) (no.) (Data year: 2023)',\n",
       "       'Government pensions and allowances: Youth allowance (other) (no.) (Data year: 2023)',\n",
       "       'Government pensions and allowances: Family tax benefit A (no.) (Data year: 2023)',\n",
       "       'Government pensions and allowances: Family tax benefit B (no.) (Data year: 2023)',\n",
       "       'Government pensions and allowances: Commonwealth rent assistance (no.) (Data year: 2023)',\n",
       "       'Total personal income: Persons earning $1-$499 per week (%) (Data year: 2021)',\n",
       "       'Total personal income: Persons earning $500-$999 per week (%) (Data year: 2021)',\n",
       "       'Total personal income: Persons earning $1000-$1999 per week (%) (Data year: 2021)',\n",
       "       'Total personal income: Persons earning $2000-$2999 per week (%) (Data year: 2021)',\n",
       "       'Total personal income: Persons earning $3000 or more per week (%) (Data year: 2021)',\n",
       "       'Total personal income: Persons earning nil income (%) (Data year: 2021)',\n",
       "       'Total personal income: Persons with a negative income (%) (Data year: 2021)',\n",
       "       'Total personal income: Income inadequately described/not stated (%) (Data year: 2021)',\n",
       "       'Median equivalised total household income (weekly) ($) (Data year: 2021)',\n",
       "       'Equivalised total household income: $1-$499 per week (%) (Data year: 2021)',\n",
       "       'Equivalised total household income: $500-$999 per week (%) (Data year: 2021)',\n",
       "       'Equivalised total household income: $1000-$1999 per week (%) (Data year: 2021)',\n",
       "       'Equivalised total household income: $2000-$2999 per week (%) (Data year: 2021)',\n",
       "       'Equivalised total household income: $3000 or more per week (%) (Data year: 2021)',\n",
       "       'Equivalised total household income: Nil income (%) (Data year: 2021)',\n",
       "       'Equivalised total household income: Partial income stated (%) (Data year: 2021)',\n",
       "       'Equivalised total household income: All incomes not stated (%) (Data year: 2021)',\n",
       "       'globalid', 'Shape__Area', 'Shape__Length'],\n",
       "      dtype='object')"
      ]
     },
     "execution_count": 12,
     "metadata": {},
     "output_type": "execute_result"
    }
   ],
   "source": [
    "\n",
    "columns_to_drop = ['SA2_NAME21', 'CHG_FLAG21', 'CHG_LBL21', 'SA3_CODE21', 'SA3_NAME21', \n",
    "                   'SA4_CODE21', 'SA4_NAME21', 'GCC_CODE21', 'GCC_NAME21', 'STE_CODE21', \n",
    "                   'STE_NAME21', 'AUS_CODE21', 'AUS_NAME21', 'AREASQKM21', 'LOCI_URI21', \n",
    "                   'geometry', 'OBJECTID']\n",
    "\n",
    "\n",
    "victoria_income_cleaned = victoria_income.drop(columns=columns_to_drop)\n",
    "\n",
    "victoria_income_cleaned.columns\n"
   ]
  },
  {
   "cell_type": "code",
   "execution_count": 13,
   "metadata": {},
   "outputs": [],
   "source": [
    "from sklearn.preprocessing import StandardScaler\n",
    "from sklearn.decomposition import PCA\n",
    "import numpy as np\n",
    "import matplotlib.pyplot as plt\n",
    "\n",
    "numeric_columns = victoria_income_cleaned.select_dtypes(include=[np.number]).columns\n",
    "X_victoria = victoria_income[numeric_columns]\n",
    "\n",
    "# Standardize the features\n",
    "scaler = StandardScaler()\n",
    "X_scaled_victoria = scaler.fit_transform(X_victoria)\n"
   ]
  },
  {
   "cell_type": "code",
   "execution_count": 14,
   "metadata": {},
   "outputs": [
    {
     "data": {
      "image/png": "[encoded data removed]",
      "text/plain": [
       "<Figure size 1000x600 with 1 Axes>"
      ]
     },
     "metadata": {},
     "output_type": "display_data"
    },
    {
     "name": "stdout",
     "output_type": "stream",
     "text": [
      "Number of components explaining 90% variance: 11\n"
     ]
    }
   ],
   "source": [
    "pca = PCA()\n",
    "X_pca_victoria = pca.fit_transform(X_scaled_victoria)\n",
    "\n",
    "#cumulative explained variance\n",
    "plt.figure(figsize=(10, 6))\n",
    "plt.plot(np.cumsum(pca.explained_variance_ratio_), marker='o', linestyle='--')\n",
    "plt.title('Cumulative Explained Variance by Principal Components (Victoria)')\n",
    "plt.xlabel('Number of Components')\n",
    "plt.ylabel('Cumulative Explained Variance')\n",
    "plt.grid(True)\n",
    "plt.show()\n",
    "\n",
    "# I want to choose the number of components that explain at least 90% of variance\n",
    "n_components_victoria = np.argmax(np.cumsum(pca.explained_variance_ratio_) >= 0.90) + 1\n",
    "print(f'Number of components explaining 90% variance: {n_components_victoria}')\n"
   ]
  },
  {
   "cell_type": "code",
   "execution_count": 15,
   "metadata": {},
   "outputs": [],
   "source": [
    "from sklearn.linear_model import LinearRegression\n",
    "\n",
    "# Apply PCA again to extract the selected number of components\n",
    "pca_victoria_final = PCA(n_components=n_components_victoria)\n",
    "X_pca_final_victoria = pca_victoria_final.fit_transform(X_scaled_victoria)\n",
    "\n",
    "\n",
    "regression_model_victoria = LinearRegression()\n",
    "regression_model_victoria.fit(X_pca_final_victoria, X_pca_final_victoria.mean(axis=1))\n",
    "victoria_income_cleaned['affluence_score'] = regression_model_victoria.predict(X_pca_final_victoria)\n"
   ]
  },
  {
   "cell_type": "code",
   "execution_count": 16,
   "metadata": {},
   "outputs": [
    {
     "data": {
      "text/html": [
       "<div>\n",
       "<style scoped>\n",
       "    .dataframe tbody tr th:only-of-type {\n",
       "        vertical-align: middle;\n",
       "    }\n",
       "\n",
       "    .dataframe tbody tr th {\n",
       "        vertical-align: top;\n",
       "    }\n",
       "\n",
       "    .dataframe thead th {\n",
       "        text-align: right;\n",
       "    }\n",
       "</style>\n",
       "<table border=\"1\" class=\"dataframe\">\n",
       "  <thead>\n",
       "    <tr style=\"text-align: right;\">\n",
       "      <th></th>\n",
       "      <th>Statistical Areas Level 2 2021 name</th>\n",
       "      <th>affluence_score</th>\n",
       "    </tr>\n",
       "  </thead>\n",
       "  <tbody>\n",
       "    <tr>\n",
       "      <th>50</th>\n",
       "      <td>Carlton</td>\n",
       "      <td>2.526701</td>\n",
       "    </tr>\n",
       "    <tr>\n",
       "      <th>277</th>\n",
       "      <td>Toorak</td>\n",
       "      <td>2.217727</td>\n",
       "    </tr>\n",
       "    <tr>\n",
       "      <th>83</th>\n",
       "      <td>Doncaster</td>\n",
       "      <td>1.843305</td>\n",
       "    </tr>\n",
       "    <tr>\n",
       "      <th>30</th>\n",
       "      <td>Box Hill</td>\n",
       "      <td>1.796711</td>\n",
       "    </tr>\n",
       "    <tr>\n",
       "      <th>118</th>\n",
       "      <td>Glen Waverley - East</td>\n",
       "      <td>1.643174</td>\n",
       "    </tr>\n",
       "    <tr>\n",
       "      <th>119</th>\n",
       "      <td>Glen Waverley - West</td>\n",
       "      <td>1.605708</td>\n",
       "    </tr>\n",
       "    <tr>\n",
       "      <th>23</th>\n",
       "      <td>Bentleigh - McKinnon</td>\n",
       "      <td>1.526309</td>\n",
       "    </tr>\n",
       "    <tr>\n",
       "      <th>135</th>\n",
       "      <td>Highton</td>\n",
       "      <td>1.501152</td>\n",
       "    </tr>\n",
       "    <tr>\n",
       "      <th>129</th>\n",
       "      <td>Hawthorn East</td>\n",
       "      <td>1.466651</td>\n",
       "    </tr>\n",
       "    <tr>\n",
       "      <th>301</th>\n",
       "      <td>Wheelers Hill</td>\n",
       "      <td>1.418571</td>\n",
       "    </tr>\n",
       "  </tbody>\n",
       "</table>\n",
       "</div>"
      ],
      "text/plain": [
       "    Statistical Areas Level 2 2021 name  affluence_score\n",
       "50                              Carlton         2.526701\n",
       "277                              Toorak         2.217727\n",
       "83                            Doncaster         1.843305\n",
       "30                             Box Hill         1.796711\n",
       "118                Glen Waverley - East         1.643174\n",
       "119                Glen Waverley - West         1.605708\n",
       "23                 Bentleigh - McKinnon         1.526309\n",
       "135                             Highton         1.501152\n",
       "129                       Hawthorn East         1.466651\n",
       "301                       Wheelers Hill         1.418571"
      ]
     },
     "execution_count": 16,
     "metadata": {},
     "output_type": "execute_result"
    }
   ],
   "source": [
    "\n",
    "victoria_income_cleaned[['Statistical Areas Level 2 2021 name', 'affluence_score']].head()\n",
    "\n",
    "\n",
    "affluence_by_suburb_victoria = victoria_income_cleaned.groupby('Statistical Areas Level 2 2021 name')['affluence_score'].mean().reset_index()\n",
    "\n",
    "\n",
    "affluence_by_suburb_victoria_sorted = affluence_by_suburb_victoria.sort_values(by='affluence_score', ascending=False)\n",
    "\n",
    "# Display the top 5 suburbs with the highest affluence score\n",
    "affluence_by_suburb_victoria_sorted.head(10)\n",
    "\n",
    "\n"
   ]
  },
  {
   "cell_type": "code",
   "execution_count": 22,
   "metadata": {},
   "outputs": [
    {
     "data": {
      "text/plain": [
       "'affluence_forecast_2020_2023.csv'"
      ]
     },
     "execution_count": 22,
     "metadata": {},
     "output_type": "execute_result"
    }
   ],
   "source": [
    "\n",
    "victoria_income_cleaned['2020_Forecast'] = victoria_income_cleaned['affluence_score']  \n",
    "\n",
    "\n",
    "victoria_income_cleaned['2021_Forecast'] = victoria_income_cleaned['2020_Forecast'] * 1.02\n",
    "victoria_income_cleaned['2022_Forecast'] = victoria_income_cleaned['2021_Forecast'] * 1.02\n",
    "victoria_income_cleaned['2023_Forecast'] = victoria_income_cleaned['2022_Forecast'] * 1.02\n",
    "\n",
    "\n",
    "forecast_output_best_model = victoria_income_cleaned[\n",
    "    ['Statistical Areas Level 2 2021 code', 'Statistical Areas Level 2 2021 name', \n",
    "     '2020_Forecast', '2021_Forecast', '2022_Forecast', '2023_Forecast']\n",
    "]\n",
    "\n",
    "\n",
    "forecast_output_best_model_path = 'affluence_forecast_2020_2023.csv'\n",
    "forecast_output_best_model.to_csv(forecast_output_best_model_path, index=False)\n",
    "forecast_output_best_model_path\n"
   ]
  },
  {
   "cell_type": "code",
   "execution_count": 17,
   "metadata": {},
   "outputs": [],
   "source": []
  },
  {
   "cell_type": "code",
   "execution_count": null,
   "metadata": {},
   "outputs": [],
   "source": []
  }
 ],
 "metadata": {
  "kernelspec": {
   "display_name": "Python 3",
   "language": "python",
   "name": "python3"
  },
  "language_info": {
   "codemirror_mode": {
    "name": "ipython",
    "version": 3
   },
   "file_extension": ".py",
   "mimetype": "text/x-python",
   "name": "python",
   "nbconvert_exporter": "python",
   "pygments_lexer": "ipython3",
   "version": "3.10.12"
  }
 },
 "nbformat": 4,
 "nbformat_minor": 2
}
