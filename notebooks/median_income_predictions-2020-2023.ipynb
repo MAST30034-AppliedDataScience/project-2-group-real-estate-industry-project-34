{
 "cells": [
  {
   "cell_type": "code",
   "execution_count": 2,
   "metadata": {},
   "outputs": [],
   "source": [
    "import pandas as pd\n",
    "from sklearn.ensemble import RandomForestRegressor\n",
    "from sklearn.model_selection import train_test_split\n",
    "from sklearn.metrics import mean_squared_error\n",
    "from sklearn.metrics import r2_score\n",
    "\n",
    "victoria_income_full_data = pd.read_csv('/home/ryanwonhail/project-2-group-real-estate-industry-project-34/notebooks/victoria_income.csv')\n",
    "target_variable = 'Personal income: Median employee income ($) (Data year: 2020)'\n"
   ]
  },
  {
   "cell_type": "code",
   "execution_count": 3,
   "metadata": {},
   "outputs": [
    {
     "data": {
      "text/plain": [
       "(np.float64(394156.9670947789),\n",
       " 0.9921061987398571,\n",
       " np.float64(6546285.964082541),\n",
       " 0.8699512899559063)"
      ]
     },
     "execution_count": 3,
     "metadata": {},
     "output_type": "execute_result"
    }
   ],
   "source": [
    "# Define the top features based on the correlation analysis\n",
    "top_features_selected = [\n",
    "    'Personal income: Median total income (excl. Government pensions and allowances) ($) (Data year: 2020)',\n",
    "    'Personal income: Mean employee income ($) (Data year: 2020)',\n",
    "    'Personal income: Total income (excl. Government pensions and allowances): Highest Quartile (%) (Data year: 2020)',\n",
    "    'Total personal income: Persons earning $2000-$2999 per week (%) (Data year: 2021)',\n",
    "    'Median equivalised total household income (weekly) ($) (Data year: 2021)'\n",
    "]\n",
    "\n",
    "# Ensure the dataset is aligned and doesn't have missing values for the selected features and the target variable\n",
    "aligned_data_for_target_selected = victoria_income_full_data.dropna(subset=top_features_selected + [target_variable])\n",
    "\n",
    "\n",
    "X_aligned_target_selected = aligned_data_for_target_selected[top_features_selected]\n",
    "y_aligned_target_selected = aligned_data_for_target_selected[target_variable]\n",
    "X_train_selected, X_test_selected, y_train_selected, y_test_selected = train_test_split(X_aligned_target_selected, y_aligned_target_selected, test_size=0.2, random_state=42)\n",
    "\n",
    "\n",
    "model_selected = RandomForestRegressor(random_state=42)\n",
    "model_selected.fit(X_train_selected, y_train_selected)\n",
    "\n",
    "\n",
    "y_train_pred_selected = model_selected.predict(X_train_selected)\n",
    "y_test_pred_selected = model_selected.predict(X_test_selected)\n",
    "\n",
    "train_mse_selected = mean_squared_error(y_train_selected, y_train_pred_selected)\n",
    "test_mse_selected = mean_squared_error(y_test_selected, y_test_pred_selected)\n",
    "train_r2_selected = r2_score(y_train_selected, y_train_pred_selected)\n",
    "test_r2_selected = r2_score(y_test_selected, y_test_pred_selected)\n",
    "\n",
    "train_mse_selected, train_r2_selected, test_mse_selected, test_r2_selected\n"
   ]
  },
  {
   "cell_type": "code",
   "execution_count": 4,
   "metadata": {},
   "outputs": [
    {
     "data": {
      "text/plain": [
       "(np.float64(0.9247074522184839),\n",
       " np.float64(6569737.859094096),\n",
       " 0.869485393917897)"
      ]
     },
     "execution_count": 4,
     "metadata": {},
     "output_type": "execute_result"
    }
   ],
   "source": [
    "from sklearn.model_selection import GridSearchCV\n",
    "from sklearn.model_selection import cross_val_score\n",
    "# Define the RandomForestRegressor and the hyperparameter grid\n",
    "rf_model = RandomForestRegressor(random_state=42)\n",
    "param_grid = {\n",
    "    'n_estimators': [100, 200, 300],\n",
    "    'max_depth': [10, 20, None],\n",
    "    'min_samples_split': [2, 5, 10],\n",
    "    'min_samples_leaf': [1, 2, 4]\n",
    "}\n",
    "\n",
    "# Use GridSearchCV for hyperparameter tuning with 5-fold cross-validation\n",
    "grid_search_selected = GridSearchCV(estimator=rf_model, param_grid=param_grid, cv=5, n_jobs=-1, scoring='neg_mean_squared_error')\n",
    "grid_search_selected.fit(X_train_selected, y_train_selected)\n",
    "\n",
    "# Get the best estimator from the grid search\n",
    "best_rf_model = grid_search_selected.best_estimator_\n",
    "\n",
    "# Evaluate the model using cross-validation on the training set\n",
    "cv_scores_selected = cross_val_score(best_rf_model, X_train_selected, y_train_selected, cv=5, scoring='r2')\n",
    "\n",
    "# Predict on the test set with the best model\n",
    "y_test_pred_tuned = best_rf_model.predict(X_test_selected)\n",
    "test_mse_tuned = mean_squared_error(y_test_selected, y_test_pred_tuned)\n",
    "test_r2_tuned = r2_score(y_test_selected, y_test_pred_tuned)\n",
    "\n",
    "cv_scores_selected.mean(), test_mse_tuned, test_r2_tuned\n"
   ]
  },
  {
   "cell_type": "code",
   "execution_count": 5,
   "metadata": {},
   "outputs": [
    {
     "data": {
      "text/plain": [
       "'median_income_predictions 2020-2023 final.csv'"
      ]
     },
     "execution_count": 5,
     "metadata": {},
     "output_type": "execute_result"
    }
   ],
   "source": [
    "\n",
    "y_pred_2020_best_model = best_rf_model.predict(X_aligned_target_selected)\n",
    "\n",
    "# Create forecast for subsequent years with a 2% increase\n",
    "aligned_data_for_target_selected['2020_Forecast'] = y_pred_2020_best_model\n",
    "aligned_data_for_target_selected['2021_Forecast'] = aligned_data_for_target_selected['2020_Forecast'] * 1.02\n",
    "aligned_data_for_target_selected['2022_Forecast'] = aligned_data_for_target_selected['2021_Forecast'] * 1.02\n",
    "aligned_data_for_target_selected['2023_Forecast'] = aligned_data_for_target_selected['2022_Forecast'] * 1.02\n",
    "\n",
    "\n",
    "forecast_output_best_model = aligned_data_for_target_selected[\n",
    "    ['Statistical Areas Level 2 2021 code', 'Statistical Areas Level 2 2021 name', '2020_Forecast', '2021_Forecast', '2022_Forecast', '2023_Forecast']\n",
    "]\n",
    "\n",
    "\n",
    "forecast_output_best_model_path = 'median_income_predictions 2020-2023 final.csv'\n",
    "forecast_output_best_model.to_csv(forecast_output_best_model_path, index=False)\n",
    "forecast_output_best_model_path\n"
   ]
  }
 ],
 "metadata": {
  "kernelspec": {
   "display_name": "Python 3",
   "language": "python",
   "name": "python3"
  },
  "language_info": {
   "codemirror_mode": {
    "name": "ipython",
    "version": 3
   },
   "file_extension": ".py",
   "mimetype": "text/x-python",
   "name": "python",
   "nbconvert_exporter": "python",
   "pygments_lexer": "ipython3",
   "version": "3.10.12"
  }
 },
 "nbformat": 4,
 "nbformat_minor": 2
}
